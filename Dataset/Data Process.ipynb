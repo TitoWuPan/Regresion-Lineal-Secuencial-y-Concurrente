{
 "cells": [
  {
   "cell_type": "code",
   "execution_count": 1,
   "id": "4b4e7bc8",
   "metadata": {
    "execution": {
     "iopub.execute_input": "2024-03-17T08:46:13.146310Z",
     "iopub.status.busy": "2024-03-17T08:46:13.145304Z",
     "iopub.status.idle": "2024-03-17T08:46:14.260204Z",
     "shell.execute_reply": "2024-03-17T08:46:14.258794Z"
    },
    "papermill": {
     "duration": 1.167684,
     "end_time": "2024-03-17T08:46:14.263519",
     "exception": false,
     "start_time": "2024-03-17T08:46:13.095835",
     "status": "completed"
    },
    "tags": []
   },
   "outputs": [],
   "source": [
    "import numpy as np \n",
    "import pandas as pd \n",
    "from math import radians, sin, cos, sqrt, atan2"
   ]
  },
  {
   "cell_type": "code",
   "execution_count": 28,
   "id": "8d640157",
   "metadata": {
    "execution": {
     "iopub.execute_input": "2024-03-17T08:46:14.351734Z",
     "iopub.status.busy": "2024-03-17T08:46:14.351127Z",
     "iopub.status.idle": "2024-03-17T08:46:23.140057Z",
     "shell.execute_reply": "2024-03-17T08:46:23.138489Z"
    },
    "papermill": {
     "duration": 8.836275,
     "end_time": "2024-03-17T08:46:23.143569",
     "exception": false,
     "start_time": "2024-03-17T08:46:14.307294",
     "status": "completed"
    },
    "tags": []
   },
   "outputs": [],
   "source": [
    "df = pd.read_csv(\"NYC.csv\")"
   ]
  },
  {
   "cell_type": "code",
   "execution_count": 29,
   "id": "74445efd",
   "metadata": {
    "execution": {
     "iopub.execute_input": "2024-03-17T08:46:23.231597Z",
     "iopub.status.busy": "2024-03-17T08:46:23.231142Z",
     "iopub.status.idle": "2024-03-17T08:46:23.259442Z",
     "shell.execute_reply": "2024-03-17T08:46:23.258216Z"
    },
    "papermill": {
     "duration": 0.075546,
     "end_time": "2024-03-17T08:46:23.262393",
     "exception": false,
     "start_time": "2024-03-17T08:46:23.186847",
     "status": "completed"
    },
    "tags": []
   },
   "outputs": [
    {
     "data": {
      "text/html": [
       "<div>\n",
       "<style scoped>\n",
       "    .dataframe tbody tr th:only-of-type {\n",
       "        vertical-align: middle;\n",
       "    }\n",
       "\n",
       "    .dataframe tbody tr th {\n",
       "        vertical-align: top;\n",
       "    }\n",
       "\n",
       "    .dataframe thead th {\n",
       "        text-align: right;\n",
       "    }\n",
       "</style>\n",
       "<table border=\"1\" class=\"dataframe\">\n",
       "  <thead>\n",
       "    <tr style=\"text-align: right;\">\n",
       "      <th></th>\n",
       "      <th>id</th>\n",
       "      <th>vendor_id</th>\n",
       "      <th>pickup_datetime</th>\n",
       "      <th>dropoff_datetime</th>\n",
       "      <th>passenger_count</th>\n",
       "      <th>pickup_longitude</th>\n",
       "      <th>pickup_latitude</th>\n",
       "      <th>dropoff_longitude</th>\n",
       "      <th>dropoff_latitude</th>\n",
       "      <th>store_and_fwd_flag</th>\n",
       "      <th>trip_duration</th>\n",
       "    </tr>\n",
       "  </thead>\n",
       "  <tbody>\n",
       "    <tr>\n",
       "      <th>0</th>\n",
       "      <td>id2875421</td>\n",
       "      <td>2</td>\n",
       "      <td>2016-03-14 17:24:55</td>\n",
       "      <td>2016-03-14 17:32:30</td>\n",
       "      <td>1</td>\n",
       "      <td>-73.982155</td>\n",
       "      <td>40.767937</td>\n",
       "      <td>-73.964630</td>\n",
       "      <td>40.765602</td>\n",
       "      <td>N</td>\n",
       "      <td>455</td>\n",
       "    </tr>\n",
       "    <tr>\n",
       "      <th>1</th>\n",
       "      <td>id2377394</td>\n",
       "      <td>1</td>\n",
       "      <td>2016-06-12 00:43:35</td>\n",
       "      <td>2016-06-12 00:54:38</td>\n",
       "      <td>1</td>\n",
       "      <td>-73.980415</td>\n",
       "      <td>40.738564</td>\n",
       "      <td>-73.999481</td>\n",
       "      <td>40.731152</td>\n",
       "      <td>N</td>\n",
       "      <td>663</td>\n",
       "    </tr>\n",
       "    <tr>\n",
       "      <th>2</th>\n",
       "      <td>id3858529</td>\n",
       "      <td>2</td>\n",
       "      <td>2016-01-19 11:35:24</td>\n",
       "      <td>2016-01-19 12:10:48</td>\n",
       "      <td>1</td>\n",
       "      <td>-73.979027</td>\n",
       "      <td>40.763939</td>\n",
       "      <td>-74.005333</td>\n",
       "      <td>40.710087</td>\n",
       "      <td>N</td>\n",
       "      <td>2124</td>\n",
       "    </tr>\n",
       "    <tr>\n",
       "      <th>3</th>\n",
       "      <td>id3504673</td>\n",
       "      <td>2</td>\n",
       "      <td>2016-04-06 19:32:31</td>\n",
       "      <td>2016-04-06 19:39:40</td>\n",
       "      <td>1</td>\n",
       "      <td>-74.010040</td>\n",
       "      <td>40.719971</td>\n",
       "      <td>-74.012268</td>\n",
       "      <td>40.706718</td>\n",
       "      <td>N</td>\n",
       "      <td>429</td>\n",
       "    </tr>\n",
       "    <tr>\n",
       "      <th>4</th>\n",
       "      <td>id2181028</td>\n",
       "      <td>2</td>\n",
       "      <td>2016-03-26 13:30:55</td>\n",
       "      <td>2016-03-26 13:38:10</td>\n",
       "      <td>1</td>\n",
       "      <td>-73.973053</td>\n",
       "      <td>40.793209</td>\n",
       "      <td>-73.972923</td>\n",
       "      <td>40.782520</td>\n",
       "      <td>N</td>\n",
       "      <td>435</td>\n",
       "    </tr>\n",
       "  </tbody>\n",
       "</table>\n",
       "</div>"
      ],
      "text/plain": [
       "          id  vendor_id      pickup_datetime     dropoff_datetime  \\\n",
       "0  id2875421          2  2016-03-14 17:24:55  2016-03-14 17:32:30   \n",
       "1  id2377394          1  2016-06-12 00:43:35  2016-06-12 00:54:38   \n",
       "2  id3858529          2  2016-01-19 11:35:24  2016-01-19 12:10:48   \n",
       "3  id3504673          2  2016-04-06 19:32:31  2016-04-06 19:39:40   \n",
       "4  id2181028          2  2016-03-26 13:30:55  2016-03-26 13:38:10   \n",
       "\n",
       "   passenger_count  pickup_longitude  pickup_latitude  dropoff_longitude  \\\n",
       "0                1        -73.982155        40.767937         -73.964630   \n",
       "1                1        -73.980415        40.738564         -73.999481   \n",
       "2                1        -73.979027        40.763939         -74.005333   \n",
       "3                1        -74.010040        40.719971         -74.012268   \n",
       "4                1        -73.973053        40.793209         -73.972923   \n",
       "\n",
       "   dropoff_latitude store_and_fwd_flag  trip_duration  \n",
       "0         40.765602                  N            455  \n",
       "1         40.731152                  N            663  \n",
       "2         40.710087                  N           2124  \n",
       "3         40.706718                  N            429  \n",
       "4         40.782520                  N            435  "
      ]
     },
     "execution_count": 29,
     "metadata": {},
     "output_type": "execute_result"
    }
   ],
   "source": [
    "df.head()"
   ]
  },
  {
   "cell_type": "markdown",
   "id": "90e0d6c6",
   "metadata": {
    "papermill": {
     "duration": 0.042443,
     "end_time": "2024-03-17T08:46:23.348349",
     "exception": false,
     "start_time": "2024-03-17T08:46:23.305906",
     "status": "completed"
    },
    "tags": []
   },
   "source": [
    "# Columnas\n",
    "1. \"id - un identificador único para cada viaje\",\n",
    "2. \"vendor_id: un código que indica el proveedor asociado con el registro de viaje\",\n",
    "3. \"pickup_datetime - fecha y hora en que se activó el medidor\",\n",
    "4. \"dropoff_datetime - fecha y hora en que se desconectó el medidor\",\n",
    "5. \"passenger_count - el número de pasajeros en el vehículo (valor ingresado por el conductor)\",\n",
    "6. \"pickup_longitude - la longitud donde se activó el medidor\",\n",
    "7. \"pickup_latitude - la latitud donde se activó el medidor\",\n",
    "8. \"dropoff_longitude - la longitud donde se desactivó el medidor\",\n",
    "9. \"dropoff_latitude - la latitud donde se desconectó el medidor\",\n",
    "10. \"store_and_fwd_flag: este indicador indica si el registro de viaje se mantuvo en la memoria del vehículo antes de enviarlo al proveedor porque el vehículo no tenía una conexión con el servidor - Y=almacenar y reenviar; N=no es un viaje de almacenamiento y reenvío\",\n",
    "11. \"trip_duration - duración del viaje en segundos\""
   ]
  },
  {
   "cell_type": "code",
   "execution_count": 31,
   "id": "4ac669da",
   "metadata": {
    "execution": {
     "iopub.execute_input": "2024-03-17T08:46:23.436685Z",
     "iopub.status.busy": "2024-03-17T08:46:23.436255Z",
     "iopub.status.idle": "2024-03-17T08:46:24.102111Z",
     "shell.execute_reply": "2024-03-17T08:46:24.100943Z"
    },
    "papermill": {
     "duration": 0.71322,
     "end_time": "2024-03-17T08:46:24.105027",
     "exception": false,
     "start_time": "2024-03-17T08:46:23.391807",
     "status": "completed"
    },
    "tags": []
   },
   "outputs": [
    {
     "name": "stdout",
     "output_type": "stream",
     "text": [
      "<class 'pandas.core.frame.DataFrame'>\n",
      "RangeIndex: 1458644 entries, 0 to 1458643\n",
      "Data columns (total 11 columns):\n",
      " #   Column              Non-Null Count    Dtype  \n",
      "---  ------              --------------    -----  \n",
      " 0   id                  1458644 non-null  object \n",
      " 1   vendor_id           1458644 non-null  int64  \n",
      " 2   pickup_datetime     1458644 non-null  object \n",
      " 3   dropoff_datetime    1458644 non-null  object \n",
      " 4   passenger_count     1458644 non-null  int64  \n",
      " 5   pickup_longitude    1458644 non-null  float64\n",
      " 6   pickup_latitude     1458644 non-null  float64\n",
      " 7   dropoff_longitude   1458644 non-null  float64\n",
      " 8   dropoff_latitude    1458644 non-null  float64\n",
      " 9   store_and_fwd_flag  1458644 non-null  object \n",
      " 10  trip_duration       1458644 non-null  int64  \n",
      "dtypes: float64(4), int64(3), object(4)\n",
      "memory usage: 122.4+ MB\n"
     ]
    }
   ],
   "source": [
    "df.info()"
   ]
  },
  {
   "cell_type": "code",
   "execution_count": 32,
   "id": "c115c600",
   "metadata": {
    "execution": {
     "iopub.execute_input": "2024-03-17T08:46:24.192554Z",
     "iopub.status.busy": "2024-03-17T08:46:24.192159Z",
     "iopub.status.idle": "2024-03-17T08:46:24.618732Z",
     "shell.execute_reply": "2024-03-17T08:46:24.617382Z"
    },
    "papermill": {
     "duration": 0.473836,
     "end_time": "2024-03-17T08:46:24.621910",
     "exception": false,
     "start_time": "2024-03-17T08:46:24.148074",
     "status": "completed"
    },
    "tags": []
   },
   "outputs": [
    {
     "data": {
      "text/html": [
       "<div>\n",
       "<style scoped>\n",
       "    .dataframe tbody tr th:only-of-type {\n",
       "        vertical-align: middle;\n",
       "    }\n",
       "\n",
       "    .dataframe tbody tr th {\n",
       "        vertical-align: top;\n",
       "    }\n",
       "\n",
       "    .dataframe thead th {\n",
       "        text-align: right;\n",
       "    }\n",
       "</style>\n",
       "<table border=\"1\" class=\"dataframe\">\n",
       "  <thead>\n",
       "    <tr style=\"text-align: right;\">\n",
       "      <th></th>\n",
       "      <th>vendor_id</th>\n",
       "      <th>passenger_count</th>\n",
       "      <th>pickup_longitude</th>\n",
       "      <th>pickup_latitude</th>\n",
       "      <th>dropoff_longitude</th>\n",
       "      <th>dropoff_latitude</th>\n",
       "      <th>trip_duration</th>\n",
       "    </tr>\n",
       "  </thead>\n",
       "  <tbody>\n",
       "    <tr>\n",
       "      <th>count</th>\n",
       "      <td>1.458644e+06</td>\n",
       "      <td>1.458644e+06</td>\n",
       "      <td>1.458644e+06</td>\n",
       "      <td>1.458644e+06</td>\n",
       "      <td>1.458644e+06</td>\n",
       "      <td>1.458644e+06</td>\n",
       "      <td>1.458644e+06</td>\n",
       "    </tr>\n",
       "    <tr>\n",
       "      <th>mean</th>\n",
       "      <td>1.534950e+00</td>\n",
       "      <td>1.664530e+00</td>\n",
       "      <td>-7.397349e+01</td>\n",
       "      <td>4.075092e+01</td>\n",
       "      <td>-7.397342e+01</td>\n",
       "      <td>4.075180e+01</td>\n",
       "      <td>9.594923e+02</td>\n",
       "    </tr>\n",
       "    <tr>\n",
       "      <th>std</th>\n",
       "      <td>4.987772e-01</td>\n",
       "      <td>1.314242e+00</td>\n",
       "      <td>7.090186e-02</td>\n",
       "      <td>3.288119e-02</td>\n",
       "      <td>7.064327e-02</td>\n",
       "      <td>3.589056e-02</td>\n",
       "      <td>5.237432e+03</td>\n",
       "    </tr>\n",
       "    <tr>\n",
       "      <th>min</th>\n",
       "      <td>1.000000e+00</td>\n",
       "      <td>0.000000e+00</td>\n",
       "      <td>-1.219333e+02</td>\n",
       "      <td>3.435970e+01</td>\n",
       "      <td>-1.219333e+02</td>\n",
       "      <td>3.218114e+01</td>\n",
       "      <td>1.000000e+00</td>\n",
       "    </tr>\n",
       "    <tr>\n",
       "      <th>25%</th>\n",
       "      <td>1.000000e+00</td>\n",
       "      <td>1.000000e+00</td>\n",
       "      <td>-7.399187e+01</td>\n",
       "      <td>4.073735e+01</td>\n",
       "      <td>-7.399133e+01</td>\n",
       "      <td>4.073588e+01</td>\n",
       "      <td>3.970000e+02</td>\n",
       "    </tr>\n",
       "    <tr>\n",
       "      <th>50%</th>\n",
       "      <td>2.000000e+00</td>\n",
       "      <td>1.000000e+00</td>\n",
       "      <td>-7.398174e+01</td>\n",
       "      <td>4.075410e+01</td>\n",
       "      <td>-7.397975e+01</td>\n",
       "      <td>4.075452e+01</td>\n",
       "      <td>6.620000e+02</td>\n",
       "    </tr>\n",
       "    <tr>\n",
       "      <th>75%</th>\n",
       "      <td>2.000000e+00</td>\n",
       "      <td>2.000000e+00</td>\n",
       "      <td>-7.396733e+01</td>\n",
       "      <td>4.076836e+01</td>\n",
       "      <td>-7.396301e+01</td>\n",
       "      <td>4.076981e+01</td>\n",
       "      <td>1.075000e+03</td>\n",
       "    </tr>\n",
       "    <tr>\n",
       "      <th>max</th>\n",
       "      <td>2.000000e+00</td>\n",
       "      <td>9.000000e+00</td>\n",
       "      <td>-6.133553e+01</td>\n",
       "      <td>5.188108e+01</td>\n",
       "      <td>-6.133553e+01</td>\n",
       "      <td>4.392103e+01</td>\n",
       "      <td>3.526282e+06</td>\n",
       "    </tr>\n",
       "  </tbody>\n",
       "</table>\n",
       "</div>"
      ],
      "text/plain": [
       "          vendor_id  passenger_count  pickup_longitude  pickup_latitude  \\\n",
       "count  1.458644e+06     1.458644e+06      1.458644e+06     1.458644e+06   \n",
       "mean   1.534950e+00     1.664530e+00     -7.397349e+01     4.075092e+01   \n",
       "std    4.987772e-01     1.314242e+00      7.090186e-02     3.288119e-02   \n",
       "min    1.000000e+00     0.000000e+00     -1.219333e+02     3.435970e+01   \n",
       "25%    1.000000e+00     1.000000e+00     -7.399187e+01     4.073735e+01   \n",
       "50%    2.000000e+00     1.000000e+00     -7.398174e+01     4.075410e+01   \n",
       "75%    2.000000e+00     2.000000e+00     -7.396733e+01     4.076836e+01   \n",
       "max    2.000000e+00     9.000000e+00     -6.133553e+01     5.188108e+01   \n",
       "\n",
       "       dropoff_longitude  dropoff_latitude  trip_duration  \n",
       "count       1.458644e+06      1.458644e+06   1.458644e+06  \n",
       "mean       -7.397342e+01      4.075180e+01   9.594923e+02  \n",
       "std         7.064327e-02      3.589056e-02   5.237432e+03  \n",
       "min        -1.219333e+02      3.218114e+01   1.000000e+00  \n",
       "25%        -7.399133e+01      4.073588e+01   3.970000e+02  \n",
       "50%        -7.397975e+01      4.075452e+01   6.620000e+02  \n",
       "75%        -7.396301e+01      4.076981e+01   1.075000e+03  \n",
       "max        -6.133553e+01      4.392103e+01   3.526282e+06  "
      ]
     },
     "execution_count": 32,
     "metadata": {},
     "output_type": "execute_result"
    }
   ],
   "source": [
    "df.describe()"
   ]
  },
  {
   "cell_type": "markdown",
   "id": "38c07499",
   "metadata": {
    "papermill": {
     "duration": 0.042435,
     "end_time": "2024-03-17T08:46:25.186200",
     "exception": false,
     "start_time": "2024-03-17T08:46:25.143765",
     "status": "completed"
    },
    "tags": []
   },
   "source": [
    "## Limpieza de datos No necesario para La Regresión Linea\n",
    "    1)- Id"
   ]
  },
  {
   "cell_type": "code",
   "execution_count": 35,
   "id": "09a8ec9d",
   "metadata": {
    "execution": {
     "iopub.execute_input": "2024-03-17T08:46:25.275383Z",
     "iopub.status.busy": "2024-03-17T08:46:25.274591Z",
     "iopub.status.idle": "2024-03-17T08:46:25.921131Z",
     "shell.execute_reply": "2024-03-17T08:46:25.919954Z"
    },
    "papermill": {
     "duration": 0.69512,
     "end_time": "2024-03-17T08:46:25.923722",
     "exception": false,
     "start_time": "2024-03-17T08:46:25.228602",
     "status": "completed"
    },
    "tags": []
   },
   "outputs": [
    {
     "data": {
      "text/plain": [
       "1458644"
      ]
     },
     "execution_count": 35,
     "metadata": {},
     "output_type": "execute_result"
    }
   ],
   "source": [
    "df[\"id\"].nunique()"
   ]
  },
  {
   "cell_type": "code",
   "execution_count": 6,
   "id": "1331919e",
   "metadata": {
    "execution": {
     "iopub.execute_input": "2024-03-17T08:46:26.011467Z",
     "iopub.status.busy": "2024-03-17T08:46:26.010892Z",
     "iopub.status.idle": "2024-03-17T08:46:28.370724Z",
     "shell.execute_reply": "2024-03-17T08:46:28.369353Z"
    },
    "papermill": {
     "duration": 2.407393,
     "end_time": "2024-03-17T08:46:28.373699",
     "exception": false,
     "start_time": "2024-03-17T08:46:25.966306",
     "status": "completed"
    },
    "tags": []
   },
   "outputs": [
    {
     "data": {
      "text/plain": [
       "0"
      ]
     },
     "execution_count": 6,
     "metadata": {},
     "output_type": "execute_result"
    }
   ],
   "source": [
    "df.duplicated().sum()"
   ]
  },
  {
   "cell_type": "code",
   "execution_count": 10,
   "id": "378160e4",
   "metadata": {
    "execution": {
     "iopub.execute_input": "2024-03-17T08:46:28.467391Z",
     "iopub.status.busy": "2024-03-17T08:46:28.466928Z",
     "iopub.status.idle": "2024-03-17T08:46:29.129714Z",
     "shell.execute_reply": "2024-03-17T08:46:29.128394Z"
    },
    "papermill": {
     "duration": 0.714692,
     "end_time": "2024-03-17T08:46:29.132705",
     "exception": false,
     "start_time": "2024-03-17T08:46:28.418013",
     "status": "completed"
    },
    "tags": []
   },
   "outputs": [
    {
     "data": {
      "text/plain": [
       "id                    0\n",
       "vendor_id             0\n",
       "pickup_datetime       0\n",
       "dropoff_datetime      0\n",
       "passenger_count       0\n",
       "pickup_longitude      0\n",
       "pickup_latitude       0\n",
       "dropoff_longitude     0\n",
       "dropoff_latitude      0\n",
       "store_and_fwd_flag    0\n",
       "trip_duration         0\n",
       "dtype: int64"
      ]
     },
     "execution_count": 10,
     "metadata": {},
     "output_type": "execute_result"
    }
   ],
   "source": [
    "df.isnull().sum()"
   ]
  },
  {
   "cell_type": "code",
   "execution_count": 36,
   "id": "ad2baed1",
   "metadata": {
    "execution": {
     "iopub.execute_input": "2024-03-17T08:46:29.225193Z",
     "iopub.status.busy": "2024-03-17T08:46:29.224660Z",
     "iopub.status.idle": "2024-03-17T08:46:29.248834Z",
     "shell.execute_reply": "2024-03-17T08:46:29.247409Z"
    },
    "papermill": {
     "duration": 0.073161,
     "end_time": "2024-03-17T08:46:29.251507",
     "exception": false,
     "start_time": "2024-03-17T08:46:29.178346",
     "status": "completed"
    },
    "tags": []
   },
   "outputs": [
    {
     "data": {
      "text/plain": [
       "vendor_id\n",
       "2    780302\n",
       "1    678342\n",
       "Name: count, dtype: int64"
      ]
     },
     "execution_count": 36,
     "metadata": {},
     "output_type": "execute_result"
    }
   ],
   "source": [
    "df[\"vendor_id\"].value_counts()"
   ]
  },
  {
   "cell_type": "code",
   "execution_count": 37,
   "id": "350e79b1",
   "metadata": {
    "execution": {
     "iopub.execute_input": "2024-03-17T08:46:29.343861Z",
     "iopub.status.busy": "2024-03-17T08:46:29.343396Z",
     "iopub.status.idle": "2024-03-17T08:46:29.479765Z",
     "shell.execute_reply": "2024-03-17T08:46:29.478315Z"
    },
    "papermill": {
     "duration": 0.1861,
     "end_time": "2024-03-17T08:46:29.483153",
     "exception": false,
     "start_time": "2024-03-17T08:46:29.297053",
     "status": "completed"
    },
    "tags": []
   },
   "outputs": [],
   "source": [
    "df.drop(\"id\",axis=1,inplace=True)"
   ]
  },
  {
   "cell_type": "markdown",
   "id": "46a9e397",
   "metadata": {
    "papermill": {
     "duration": 0.042985,
     "end_time": "2024-03-17T08:46:29.570813",
     "exception": false,
     "start_time": "2024-03-17T08:46:29.527828",
     "status": "completed"
    },
    "tags": []
   },
   "source": [
    "# Nuestro análisis: - \n",
    "     1) - La identificación Id solo se usa para identificación, por lo tanto, no afectará la variable de destino que es trip_duration.\n",
    "     2) - Pickup/dropoff date time debe dividirse en columnas de fecha y hora. \n",
    "     3)- No hay VALORES NULOS en el conjunto de datos.\n",
    "     4) - No hay FILAS DUPLICADAS en el conjunto de datos.\n",
    "     5) - Passenger_count tiene posibles valores atípicos."
   ]
  },
  {
   "cell_type": "markdown",
   "id": "a5c56170",
   "metadata": {
    "papermill": {
     "duration": 0.042827,
     "end_time": "2024-03-17T08:46:29.657187",
     "exception": false,
     "start_time": "2024-03-17T08:46:29.614360",
     "status": "completed"
    },
    "tags": []
   },
   "source": [
    "# Trip Duration del viaje es nuestra variable objetivo"
   ]
  },
  {
   "cell_type": "code",
   "execution_count": 38,
   "id": "e757f810",
   "metadata": {
    "execution": {
     "iopub.execute_input": "2024-03-17T08:46:29.832470Z",
     "iopub.status.busy": "2024-03-17T08:46:29.831887Z",
     "iopub.status.idle": "2024-03-17T08:47:06.060323Z",
     "shell.execute_reply": "2024-03-17T08:47:06.058849Z"
    },
    "papermill": {
     "duration": 36.276489,
     "end_time": "2024-03-17T08:47:06.063512",
     "exception": false,
     "start_time": "2024-03-17T08:46:29.787023",
     "status": "completed"
    },
    "tags": []
   },
   "outputs": [],
   "source": [
    "pickup_date = []\n",
    "pickup_time = []\n",
    "dropoff_date = []\n",
    "dropoff_time = []\n",
    "\n",
    "for i in range(0,df.shape[0]):\n",
    "    a = df[\"pickup_datetime\"][i].split(\" \")\n",
    "    b = df[\"dropoff_datetime\"][i].split(\" \")\n",
    "    pickup_date.append(a[0])\n",
    "    pickup_time.append(a[1])\n",
    "    dropoff_date.append(b[0])\n",
    "    dropoff_time.append(b[1])\n",
    "\n",
    "pickup_date = pd.Series(pickup_date)\n",
    "pickup_time = pd.Series(pickup_time)\n",
    "dropoff_date = pd.Series(dropoff_date)\n",
    "dropoff_time = pd.Series(dropoff_time)\n",
    "    \n",
    "modified_dataframe = pd.concat([df,pickup_date,pickup_time,dropoff_date,dropoff_time],axis=1)"
   ]
  },
  {
   "cell_type": "code",
   "execution_count": 39,
   "id": "2390714b",
   "metadata": {
    "execution": {
     "iopub.execute_input": "2024-03-17T08:47:06.153165Z",
     "iopub.status.busy": "2024-03-17T08:47:06.152765Z",
     "iopub.status.idle": "2024-03-17T08:47:06.179726Z",
     "shell.execute_reply": "2024-03-17T08:47:06.178665Z"
    },
    "papermill": {
     "duration": 0.075209,
     "end_time": "2024-03-17T08:47:06.182131",
     "exception": false,
     "start_time": "2024-03-17T08:47:06.106922",
     "status": "completed"
    },
    "tags": []
   },
   "outputs": [
    {
     "data": {
      "text/html": [
       "<div>\n",
       "<style scoped>\n",
       "    .dataframe tbody tr th:only-of-type {\n",
       "        vertical-align: middle;\n",
       "    }\n",
       "\n",
       "    .dataframe tbody tr th {\n",
       "        vertical-align: top;\n",
       "    }\n",
       "\n",
       "    .dataframe thead th {\n",
       "        text-align: right;\n",
       "    }\n",
       "</style>\n",
       "<table border=\"1\" class=\"dataframe\">\n",
       "  <thead>\n",
       "    <tr style=\"text-align: right;\">\n",
       "      <th></th>\n",
       "      <th>vendor_id</th>\n",
       "      <th>pickup_datetime</th>\n",
       "      <th>dropoff_datetime</th>\n",
       "      <th>passenger_count</th>\n",
       "      <th>pickup_longitude</th>\n",
       "      <th>pickup_latitude</th>\n",
       "      <th>dropoff_longitude</th>\n",
       "      <th>dropoff_latitude</th>\n",
       "      <th>store_and_fwd_flag</th>\n",
       "      <th>trip_duration</th>\n",
       "      <th>0</th>\n",
       "      <th>1</th>\n",
       "      <th>2</th>\n",
       "      <th>3</th>\n",
       "    </tr>\n",
       "  </thead>\n",
       "  <tbody>\n",
       "    <tr>\n",
       "      <th>0</th>\n",
       "      <td>2</td>\n",
       "      <td>2016-03-14 17:24:55</td>\n",
       "      <td>2016-03-14 17:32:30</td>\n",
       "      <td>1</td>\n",
       "      <td>-73.982155</td>\n",
       "      <td>40.767937</td>\n",
       "      <td>-73.964630</td>\n",
       "      <td>40.765602</td>\n",
       "      <td>N</td>\n",
       "      <td>455</td>\n",
       "      <td>2016-03-14</td>\n",
       "      <td>17:24:55</td>\n",
       "      <td>2016-03-14</td>\n",
       "      <td>17:32:30</td>\n",
       "    </tr>\n",
       "    <tr>\n",
       "      <th>1</th>\n",
       "      <td>1</td>\n",
       "      <td>2016-06-12 00:43:35</td>\n",
       "      <td>2016-06-12 00:54:38</td>\n",
       "      <td>1</td>\n",
       "      <td>-73.980415</td>\n",
       "      <td>40.738564</td>\n",
       "      <td>-73.999481</td>\n",
       "      <td>40.731152</td>\n",
       "      <td>N</td>\n",
       "      <td>663</td>\n",
       "      <td>2016-06-12</td>\n",
       "      <td>00:43:35</td>\n",
       "      <td>2016-06-12</td>\n",
       "      <td>00:54:38</td>\n",
       "    </tr>\n",
       "    <tr>\n",
       "      <th>2</th>\n",
       "      <td>2</td>\n",
       "      <td>2016-01-19 11:35:24</td>\n",
       "      <td>2016-01-19 12:10:48</td>\n",
       "      <td>1</td>\n",
       "      <td>-73.979027</td>\n",
       "      <td>40.763939</td>\n",
       "      <td>-74.005333</td>\n",
       "      <td>40.710087</td>\n",
       "      <td>N</td>\n",
       "      <td>2124</td>\n",
       "      <td>2016-01-19</td>\n",
       "      <td>11:35:24</td>\n",
       "      <td>2016-01-19</td>\n",
       "      <td>12:10:48</td>\n",
       "    </tr>\n",
       "    <tr>\n",
       "      <th>3</th>\n",
       "      <td>2</td>\n",
       "      <td>2016-04-06 19:32:31</td>\n",
       "      <td>2016-04-06 19:39:40</td>\n",
       "      <td>1</td>\n",
       "      <td>-74.010040</td>\n",
       "      <td>40.719971</td>\n",
       "      <td>-74.012268</td>\n",
       "      <td>40.706718</td>\n",
       "      <td>N</td>\n",
       "      <td>429</td>\n",
       "      <td>2016-04-06</td>\n",
       "      <td>19:32:31</td>\n",
       "      <td>2016-04-06</td>\n",
       "      <td>19:39:40</td>\n",
       "    </tr>\n",
       "    <tr>\n",
       "      <th>4</th>\n",
       "      <td>2</td>\n",
       "      <td>2016-03-26 13:30:55</td>\n",
       "      <td>2016-03-26 13:38:10</td>\n",
       "      <td>1</td>\n",
       "      <td>-73.973053</td>\n",
       "      <td>40.793209</td>\n",
       "      <td>-73.972923</td>\n",
       "      <td>40.782520</td>\n",
       "      <td>N</td>\n",
       "      <td>435</td>\n",
       "      <td>2016-03-26</td>\n",
       "      <td>13:30:55</td>\n",
       "      <td>2016-03-26</td>\n",
       "      <td>13:38:10</td>\n",
       "    </tr>\n",
       "    <tr>\n",
       "      <th>...</th>\n",
       "      <td>...</td>\n",
       "      <td>...</td>\n",
       "      <td>...</td>\n",
       "      <td>...</td>\n",
       "      <td>...</td>\n",
       "      <td>...</td>\n",
       "      <td>...</td>\n",
       "      <td>...</td>\n",
       "      <td>...</td>\n",
       "      <td>...</td>\n",
       "      <td>...</td>\n",
       "      <td>...</td>\n",
       "      <td>...</td>\n",
       "      <td>...</td>\n",
       "    </tr>\n",
       "    <tr>\n",
       "      <th>1458639</th>\n",
       "      <td>2</td>\n",
       "      <td>2016-04-08 13:31:04</td>\n",
       "      <td>2016-04-08 13:44:02</td>\n",
       "      <td>4</td>\n",
       "      <td>-73.982201</td>\n",
       "      <td>40.745522</td>\n",
       "      <td>-73.994911</td>\n",
       "      <td>40.740170</td>\n",
       "      <td>N</td>\n",
       "      <td>778</td>\n",
       "      <td>2016-04-08</td>\n",
       "      <td>13:31:04</td>\n",
       "      <td>2016-04-08</td>\n",
       "      <td>13:44:02</td>\n",
       "    </tr>\n",
       "    <tr>\n",
       "      <th>1458640</th>\n",
       "      <td>1</td>\n",
       "      <td>2016-01-10 07:35:15</td>\n",
       "      <td>2016-01-10 07:46:10</td>\n",
       "      <td>1</td>\n",
       "      <td>-74.000946</td>\n",
       "      <td>40.747379</td>\n",
       "      <td>-73.970184</td>\n",
       "      <td>40.796547</td>\n",
       "      <td>N</td>\n",
       "      <td>655</td>\n",
       "      <td>2016-01-10</td>\n",
       "      <td>07:35:15</td>\n",
       "      <td>2016-01-10</td>\n",
       "      <td>07:46:10</td>\n",
       "    </tr>\n",
       "    <tr>\n",
       "      <th>1458641</th>\n",
       "      <td>2</td>\n",
       "      <td>2016-04-22 06:57:41</td>\n",
       "      <td>2016-04-22 07:10:25</td>\n",
       "      <td>1</td>\n",
       "      <td>-73.959129</td>\n",
       "      <td>40.768799</td>\n",
       "      <td>-74.004433</td>\n",
       "      <td>40.707371</td>\n",
       "      <td>N</td>\n",
       "      <td>764</td>\n",
       "      <td>2016-04-22</td>\n",
       "      <td>06:57:41</td>\n",
       "      <td>2016-04-22</td>\n",
       "      <td>07:10:25</td>\n",
       "    </tr>\n",
       "    <tr>\n",
       "      <th>1458642</th>\n",
       "      <td>1</td>\n",
       "      <td>2016-01-05 15:56:26</td>\n",
       "      <td>2016-01-05 16:02:39</td>\n",
       "      <td>1</td>\n",
       "      <td>-73.982079</td>\n",
       "      <td>40.749062</td>\n",
       "      <td>-73.974632</td>\n",
       "      <td>40.757107</td>\n",
       "      <td>N</td>\n",
       "      <td>373</td>\n",
       "      <td>2016-01-05</td>\n",
       "      <td>15:56:26</td>\n",
       "      <td>2016-01-05</td>\n",
       "      <td>16:02:39</td>\n",
       "    </tr>\n",
       "    <tr>\n",
       "      <th>1458643</th>\n",
       "      <td>1</td>\n",
       "      <td>2016-04-05 14:44:25</td>\n",
       "      <td>2016-04-05 14:47:43</td>\n",
       "      <td>1</td>\n",
       "      <td>-73.979538</td>\n",
       "      <td>40.781750</td>\n",
       "      <td>-73.972809</td>\n",
       "      <td>40.790585</td>\n",
       "      <td>N</td>\n",
       "      <td>198</td>\n",
       "      <td>2016-04-05</td>\n",
       "      <td>14:44:25</td>\n",
       "      <td>2016-04-05</td>\n",
       "      <td>14:47:43</td>\n",
       "    </tr>\n",
       "  </tbody>\n",
       "</table>\n",
       "<p>1458644 rows × 14 columns</p>\n",
       "</div>"
      ],
      "text/plain": [
       "         vendor_id      pickup_datetime     dropoff_datetime  passenger_count  \\\n",
       "0                2  2016-03-14 17:24:55  2016-03-14 17:32:30                1   \n",
       "1                1  2016-06-12 00:43:35  2016-06-12 00:54:38                1   \n",
       "2                2  2016-01-19 11:35:24  2016-01-19 12:10:48                1   \n",
       "3                2  2016-04-06 19:32:31  2016-04-06 19:39:40                1   \n",
       "4                2  2016-03-26 13:30:55  2016-03-26 13:38:10                1   \n",
       "...            ...                  ...                  ...              ...   \n",
       "1458639          2  2016-04-08 13:31:04  2016-04-08 13:44:02                4   \n",
       "1458640          1  2016-01-10 07:35:15  2016-01-10 07:46:10                1   \n",
       "1458641          2  2016-04-22 06:57:41  2016-04-22 07:10:25                1   \n",
       "1458642          1  2016-01-05 15:56:26  2016-01-05 16:02:39                1   \n",
       "1458643          1  2016-04-05 14:44:25  2016-04-05 14:47:43                1   \n",
       "\n",
       "         pickup_longitude  pickup_latitude  dropoff_longitude  \\\n",
       "0              -73.982155        40.767937         -73.964630   \n",
       "1              -73.980415        40.738564         -73.999481   \n",
       "2              -73.979027        40.763939         -74.005333   \n",
       "3              -74.010040        40.719971         -74.012268   \n",
       "4              -73.973053        40.793209         -73.972923   \n",
       "...                   ...              ...                ...   \n",
       "1458639        -73.982201        40.745522         -73.994911   \n",
       "1458640        -74.000946        40.747379         -73.970184   \n",
       "1458641        -73.959129        40.768799         -74.004433   \n",
       "1458642        -73.982079        40.749062         -73.974632   \n",
       "1458643        -73.979538        40.781750         -73.972809   \n",
       "\n",
       "         dropoff_latitude store_and_fwd_flag  trip_duration           0  \\\n",
       "0               40.765602                  N            455  2016-03-14   \n",
       "1               40.731152                  N            663  2016-06-12   \n",
       "2               40.710087                  N           2124  2016-01-19   \n",
       "3               40.706718                  N            429  2016-04-06   \n",
       "4               40.782520                  N            435  2016-03-26   \n",
       "...                   ...                ...            ...         ...   \n",
       "1458639         40.740170                  N            778  2016-04-08   \n",
       "1458640         40.796547                  N            655  2016-01-10   \n",
       "1458641         40.707371                  N            764  2016-04-22   \n",
       "1458642         40.757107                  N            373  2016-01-05   \n",
       "1458643         40.790585                  N            198  2016-04-05   \n",
       "\n",
       "                1           2         3  \n",
       "0        17:24:55  2016-03-14  17:32:30  \n",
       "1        00:43:35  2016-06-12  00:54:38  \n",
       "2        11:35:24  2016-01-19  12:10:48  \n",
       "3        19:32:31  2016-04-06  19:39:40  \n",
       "4        13:30:55  2016-03-26  13:38:10  \n",
       "...           ...         ...       ...  \n",
       "1458639  13:31:04  2016-04-08  13:44:02  \n",
       "1458640  07:35:15  2016-01-10  07:46:10  \n",
       "1458641  06:57:41  2016-04-22  07:10:25  \n",
       "1458642  15:56:26  2016-01-05  16:02:39  \n",
       "1458643  14:44:25  2016-04-05  14:47:43  \n",
       "\n",
       "[1458644 rows x 14 columns]"
      ]
     },
     "execution_count": 39,
     "metadata": {},
     "output_type": "execute_result"
    }
   ],
   "source": [
    "modified_dataframe"
   ]
  },
  {
   "cell_type": "code",
   "execution_count": 40,
   "id": "028f7135",
   "metadata": {
    "execution": {
     "iopub.execute_input": "2024-03-17T08:47:06.271594Z",
     "iopub.status.busy": "2024-03-17T08:47:06.271134Z",
     "iopub.status.idle": "2024-03-17T08:47:06.278065Z",
     "shell.execute_reply": "2024-03-17T08:47:06.276876Z"
    },
    "papermill": {
     "duration": 0.055031,
     "end_time": "2024-03-17T08:47:06.280598",
     "exception": false,
     "start_time": "2024-03-17T08:47:06.225567",
     "status": "completed"
    },
    "tags": []
   },
   "outputs": [],
   "source": [
    "new_column = {0:\"pickup_date\",1:\"pickup_time\",2:\"dropoff_date\",3:\"dropoff_time\"}\n",
    "modified_dataframe.rename(columns=new_column,inplace=True)"
   ]
  },
  {
   "cell_type": "code",
   "execution_count": 41,
   "id": "d8e6b6a1",
   "metadata": {
    "execution": {
     "iopub.execute_input": "2024-03-17T08:47:06.370864Z",
     "iopub.status.busy": "2024-03-17T08:47:06.370399Z",
     "iopub.status.idle": "2024-03-17T08:47:06.932552Z",
     "shell.execute_reply": "2024-03-17T08:47:06.931179Z"
    },
    "papermill": {
     "duration": 0.610995,
     "end_time": "2024-03-17T08:47:06.935625",
     "exception": false,
     "start_time": "2024-03-17T08:47:06.324630",
     "status": "completed"
    },
    "tags": []
   },
   "outputs": [],
   "source": [
    "modified_dataframe.drop([\"pickup_datetime\",\"dropoff_datetime\"],axis=1,inplace=True)"
   ]
  },
  {
   "cell_type": "code",
   "execution_count": 42,
   "id": "b709f318",
   "metadata": {
    "execution": {
     "iopub.execute_input": "2024-03-17T08:47:07.026958Z",
     "iopub.status.busy": "2024-03-17T08:47:07.026490Z",
     "iopub.status.idle": "2024-03-17T08:47:07.044793Z",
     "shell.execute_reply": "2024-03-17T08:47:07.043893Z"
    },
    "papermill": {
     "duration": 0.066591,
     "end_time": "2024-03-17T08:47:07.047253",
     "exception": false,
     "start_time": "2024-03-17T08:47:06.980662",
     "status": "completed"
    },
    "tags": []
   },
   "outputs": [
    {
     "data": {
      "text/html": [
       "<div>\n",
       "<style scoped>\n",
       "    .dataframe tbody tr th:only-of-type {\n",
       "        vertical-align: middle;\n",
       "    }\n",
       "\n",
       "    .dataframe tbody tr th {\n",
       "        vertical-align: top;\n",
       "    }\n",
       "\n",
       "    .dataframe thead th {\n",
       "        text-align: right;\n",
       "    }\n",
       "</style>\n",
       "<table border=\"1\" class=\"dataframe\">\n",
       "  <thead>\n",
       "    <tr style=\"text-align: right;\">\n",
       "      <th></th>\n",
       "      <th>vendor_id</th>\n",
       "      <th>passenger_count</th>\n",
       "      <th>pickup_longitude</th>\n",
       "      <th>pickup_latitude</th>\n",
       "      <th>dropoff_longitude</th>\n",
       "      <th>dropoff_latitude</th>\n",
       "      <th>store_and_fwd_flag</th>\n",
       "      <th>trip_duration</th>\n",
       "      <th>pickup_date</th>\n",
       "      <th>pickup_time</th>\n",
       "      <th>dropoff_date</th>\n",
       "      <th>dropoff_time</th>\n",
       "    </tr>\n",
       "  </thead>\n",
       "  <tbody>\n",
       "    <tr>\n",
       "      <th>0</th>\n",
       "      <td>2</td>\n",
       "      <td>1</td>\n",
       "      <td>-73.982155</td>\n",
       "      <td>40.767937</td>\n",
       "      <td>-73.964630</td>\n",
       "      <td>40.765602</td>\n",
       "      <td>N</td>\n",
       "      <td>455</td>\n",
       "      <td>2016-03-14</td>\n",
       "      <td>17:24:55</td>\n",
       "      <td>2016-03-14</td>\n",
       "      <td>17:32:30</td>\n",
       "    </tr>\n",
       "    <tr>\n",
       "      <th>1</th>\n",
       "      <td>1</td>\n",
       "      <td>1</td>\n",
       "      <td>-73.980415</td>\n",
       "      <td>40.738564</td>\n",
       "      <td>-73.999481</td>\n",
       "      <td>40.731152</td>\n",
       "      <td>N</td>\n",
       "      <td>663</td>\n",
       "      <td>2016-06-12</td>\n",
       "      <td>00:43:35</td>\n",
       "      <td>2016-06-12</td>\n",
       "      <td>00:54:38</td>\n",
       "    </tr>\n",
       "    <tr>\n",
       "      <th>2</th>\n",
       "      <td>2</td>\n",
       "      <td>1</td>\n",
       "      <td>-73.979027</td>\n",
       "      <td>40.763939</td>\n",
       "      <td>-74.005333</td>\n",
       "      <td>40.710087</td>\n",
       "      <td>N</td>\n",
       "      <td>2124</td>\n",
       "      <td>2016-01-19</td>\n",
       "      <td>11:35:24</td>\n",
       "      <td>2016-01-19</td>\n",
       "      <td>12:10:48</td>\n",
       "    </tr>\n",
       "    <tr>\n",
       "      <th>3</th>\n",
       "      <td>2</td>\n",
       "      <td>1</td>\n",
       "      <td>-74.010040</td>\n",
       "      <td>40.719971</td>\n",
       "      <td>-74.012268</td>\n",
       "      <td>40.706718</td>\n",
       "      <td>N</td>\n",
       "      <td>429</td>\n",
       "      <td>2016-04-06</td>\n",
       "      <td>19:32:31</td>\n",
       "      <td>2016-04-06</td>\n",
       "      <td>19:39:40</td>\n",
       "    </tr>\n",
       "    <tr>\n",
       "      <th>4</th>\n",
       "      <td>2</td>\n",
       "      <td>1</td>\n",
       "      <td>-73.973053</td>\n",
       "      <td>40.793209</td>\n",
       "      <td>-73.972923</td>\n",
       "      <td>40.782520</td>\n",
       "      <td>N</td>\n",
       "      <td>435</td>\n",
       "      <td>2016-03-26</td>\n",
       "      <td>13:30:55</td>\n",
       "      <td>2016-03-26</td>\n",
       "      <td>13:38:10</td>\n",
       "    </tr>\n",
       "  </tbody>\n",
       "</table>\n",
       "</div>"
      ],
      "text/plain": [
       "   vendor_id  passenger_count  pickup_longitude  pickup_latitude  \\\n",
       "0          2                1        -73.982155        40.767937   \n",
       "1          1                1        -73.980415        40.738564   \n",
       "2          2                1        -73.979027        40.763939   \n",
       "3          2                1        -74.010040        40.719971   \n",
       "4          2                1        -73.973053        40.793209   \n",
       "\n",
       "   dropoff_longitude  dropoff_latitude store_and_fwd_flag  trip_duration  \\\n",
       "0         -73.964630         40.765602                  N            455   \n",
       "1         -73.999481         40.731152                  N            663   \n",
       "2         -74.005333         40.710087                  N           2124   \n",
       "3         -74.012268         40.706718                  N            429   \n",
       "4         -73.972923         40.782520                  N            435   \n",
       "\n",
       "  pickup_date pickup_time dropoff_date dropoff_time  \n",
       "0  2016-03-14    17:24:55   2016-03-14     17:32:30  \n",
       "1  2016-06-12    00:43:35   2016-06-12     00:54:38  \n",
       "2  2016-01-19    11:35:24   2016-01-19     12:10:48  \n",
       "3  2016-04-06    19:32:31   2016-04-06     19:39:40  \n",
       "4  2016-03-26    13:30:55   2016-03-26     13:38:10  "
      ]
     },
     "execution_count": 42,
     "metadata": {},
     "output_type": "execute_result"
    }
   ],
   "source": [
    "modified_dataframe.head()"
   ]
  },
  {
   "cell_type": "code",
   "execution_count": 43,
   "id": "919477a7",
   "metadata": {
    "execution": {
     "iopub.execute_input": "2024-03-17T08:47:07.144898Z",
     "iopub.status.busy": "2024-03-17T08:47:07.144505Z",
     "iopub.status.idle": "2024-03-17T08:47:08.036486Z",
     "shell.execute_reply": "2024-03-17T08:47:08.035393Z"
    },
    "papermill": {
     "duration": 0.946624,
     "end_time": "2024-03-17T08:47:08.039533",
     "exception": false,
     "start_time": "2024-03-17T08:47:07.092909",
     "status": "completed"
    },
    "tags": []
   },
   "outputs": [
    {
     "name": "stdout",
     "output_type": "stream",
     "text": [
      "<class 'pandas.core.frame.DataFrame'>\n",
      "RangeIndex: 1458644 entries, 0 to 1458643\n",
      "Data columns (total 12 columns):\n",
      " #   Column              Non-Null Count    Dtype  \n",
      "---  ------              --------------    -----  \n",
      " 0   vendor_id           1458644 non-null  int64  \n",
      " 1   passenger_count     1458644 non-null  int64  \n",
      " 2   pickup_longitude    1458644 non-null  float64\n",
      " 3   pickup_latitude     1458644 non-null  float64\n",
      " 4   dropoff_longitude   1458644 non-null  float64\n",
      " 5   dropoff_latitude    1458644 non-null  float64\n",
      " 6   store_and_fwd_flag  1458644 non-null  object \n",
      " 7   trip_duration       1458644 non-null  int64  \n",
      " 8   pickup_date         1458644 non-null  object \n",
      " 9   pickup_time         1458644 non-null  object \n",
      " 10  dropoff_date        1458644 non-null  object \n",
      " 11  dropoff_time        1458644 non-null  object \n",
      "dtypes: float64(4), int64(3), object(5)\n",
      "memory usage: 133.5+ MB\n"
     ]
    }
   ],
   "source": [
    "modified_dataframe.info()"
   ]
  },
  {
   "cell_type": "code",
   "execution_count": 44,
   "id": "1a82dd9d",
   "metadata": {
    "execution": {
     "iopub.execute_input": "2024-03-17T08:47:08.132143Z",
     "iopub.status.busy": "2024-03-17T08:47:08.131731Z",
     "iopub.status.idle": "2024-03-17T08:49:26.849591Z",
     "shell.execute_reply": "2024-03-17T08:49:26.848404Z"
    },
    "papermill": {
     "duration": 138.767582,
     "end_time": "2024-03-17T08:49:26.852742",
     "exception": false,
     "start_time": "2024-03-17T08:47:08.085160",
     "status": "completed"
    },
    "tags": []
   },
   "outputs": [
    {
     "name": "stderr",
     "output_type": "stream",
     "text": [
      "C:\\Users\\User\\AppData\\Local\\Temp\\ipykernel_15524\\1408959737.py:3: UserWarning: Could not infer format, so each element will be parsed individually, falling back to `dateutil`. To ensure parsing is consistent and as-expected, please specify a format.\n",
      "  modified_dataframe[\"pickup_time\"] = pd.to_datetime(modified_dataframe[\"pickup_time\"])\n",
      "C:\\Users\\User\\AppData\\Local\\Temp\\ipykernel_15524\\1408959737.py:5: UserWarning: Could not infer format, so each element will be parsed individually, falling back to `dateutil`. To ensure parsing is consistent and as-expected, please specify a format.\n",
      "  modified_dataframe[\"dropoff_time\"] = pd.to_datetime(modified_dataframe[\"dropoff_time\"])\n"
     ]
    }
   ],
   "source": [
    "modified_dataframe[\"pickup_date\"] = pd.to_datetime(modified_dataframe[\"pickup_date\"])\n",
    "modified_dataframe[\"pickup_time\"] = pd.to_datetime(modified_dataframe[\"pickup_time\"])\n",
    "modified_dataframe[\"dropoff_date\"] = pd.to_datetime(modified_dataframe[\"dropoff_date\"])\n",
    "modified_dataframe[\"dropoff_time\"] = pd.to_datetime(modified_dataframe[\"dropoff_time\"])"
   ]
  },
  {
   "cell_type": "code",
   "execution_count": 45,
   "id": "6631ad08",
   "metadata": {
    "execution": {
     "iopub.execute_input": "2024-03-17T08:49:26.945647Z",
     "iopub.status.busy": "2024-03-17T08:49:26.944773Z",
     "iopub.status.idle": "2024-03-17T08:49:26.962253Z",
     "shell.execute_reply": "2024-03-17T08:49:26.961192Z"
    },
    "papermill": {
     "duration": 0.065597,
     "end_time": "2024-03-17T08:49:26.964730",
     "exception": false,
     "start_time": "2024-03-17T08:49:26.899133",
     "status": "completed"
    },
    "tags": []
   },
   "outputs": [
    {
     "data": {
      "text/html": [
       "<div>\n",
       "<style scoped>\n",
       "    .dataframe tbody tr th:only-of-type {\n",
       "        vertical-align: middle;\n",
       "    }\n",
       "\n",
       "    .dataframe tbody tr th {\n",
       "        vertical-align: top;\n",
       "    }\n",
       "\n",
       "    .dataframe thead th {\n",
       "        text-align: right;\n",
       "    }\n",
       "</style>\n",
       "<table border=\"1\" class=\"dataframe\">\n",
       "  <thead>\n",
       "    <tr style=\"text-align: right;\">\n",
       "      <th></th>\n",
       "      <th>vendor_id</th>\n",
       "      <th>passenger_count</th>\n",
       "      <th>pickup_longitude</th>\n",
       "      <th>pickup_latitude</th>\n",
       "      <th>dropoff_longitude</th>\n",
       "      <th>dropoff_latitude</th>\n",
       "      <th>store_and_fwd_flag</th>\n",
       "      <th>trip_duration</th>\n",
       "      <th>pickup_date</th>\n",
       "      <th>pickup_time</th>\n",
       "      <th>dropoff_date</th>\n",
       "      <th>dropoff_time</th>\n",
       "    </tr>\n",
       "  </thead>\n",
       "  <tbody>\n",
       "    <tr>\n",
       "      <th>0</th>\n",
       "      <td>2</td>\n",
       "      <td>1</td>\n",
       "      <td>-73.982155</td>\n",
       "      <td>40.767937</td>\n",
       "      <td>-73.964630</td>\n",
       "      <td>40.765602</td>\n",
       "      <td>N</td>\n",
       "      <td>455</td>\n",
       "      <td>2016-03-14</td>\n",
       "      <td>2024-05-27 17:24:55</td>\n",
       "      <td>2016-03-14</td>\n",
       "      <td>2024-05-27 17:32:30</td>\n",
       "    </tr>\n",
       "    <tr>\n",
       "      <th>1</th>\n",
       "      <td>1</td>\n",
       "      <td>1</td>\n",
       "      <td>-73.980415</td>\n",
       "      <td>40.738564</td>\n",
       "      <td>-73.999481</td>\n",
       "      <td>40.731152</td>\n",
       "      <td>N</td>\n",
       "      <td>663</td>\n",
       "      <td>2016-06-12</td>\n",
       "      <td>2024-05-27 00:43:35</td>\n",
       "      <td>2016-06-12</td>\n",
       "      <td>2024-05-27 00:54:38</td>\n",
       "    </tr>\n",
       "    <tr>\n",
       "      <th>2</th>\n",
       "      <td>2</td>\n",
       "      <td>1</td>\n",
       "      <td>-73.979027</td>\n",
       "      <td>40.763939</td>\n",
       "      <td>-74.005333</td>\n",
       "      <td>40.710087</td>\n",
       "      <td>N</td>\n",
       "      <td>2124</td>\n",
       "      <td>2016-01-19</td>\n",
       "      <td>2024-05-27 11:35:24</td>\n",
       "      <td>2016-01-19</td>\n",
       "      <td>2024-05-27 12:10:48</td>\n",
       "    </tr>\n",
       "    <tr>\n",
       "      <th>3</th>\n",
       "      <td>2</td>\n",
       "      <td>1</td>\n",
       "      <td>-74.010040</td>\n",
       "      <td>40.719971</td>\n",
       "      <td>-74.012268</td>\n",
       "      <td>40.706718</td>\n",
       "      <td>N</td>\n",
       "      <td>429</td>\n",
       "      <td>2016-04-06</td>\n",
       "      <td>2024-05-27 19:32:31</td>\n",
       "      <td>2016-04-06</td>\n",
       "      <td>2024-05-27 19:39:40</td>\n",
       "    </tr>\n",
       "    <tr>\n",
       "      <th>4</th>\n",
       "      <td>2</td>\n",
       "      <td>1</td>\n",
       "      <td>-73.973053</td>\n",
       "      <td>40.793209</td>\n",
       "      <td>-73.972923</td>\n",
       "      <td>40.782520</td>\n",
       "      <td>N</td>\n",
       "      <td>435</td>\n",
       "      <td>2016-03-26</td>\n",
       "      <td>2024-05-27 13:30:55</td>\n",
       "      <td>2016-03-26</td>\n",
       "      <td>2024-05-27 13:38:10</td>\n",
       "    </tr>\n",
       "  </tbody>\n",
       "</table>\n",
       "</div>"
      ],
      "text/plain": [
       "   vendor_id  passenger_count  pickup_longitude  pickup_latitude  \\\n",
       "0          2                1        -73.982155        40.767937   \n",
       "1          1                1        -73.980415        40.738564   \n",
       "2          2                1        -73.979027        40.763939   \n",
       "3          2                1        -74.010040        40.719971   \n",
       "4          2                1        -73.973053        40.793209   \n",
       "\n",
       "   dropoff_longitude  dropoff_latitude store_and_fwd_flag  trip_duration  \\\n",
       "0         -73.964630         40.765602                  N            455   \n",
       "1         -73.999481         40.731152                  N            663   \n",
       "2         -74.005333         40.710087                  N           2124   \n",
       "3         -74.012268         40.706718                  N            429   \n",
       "4         -73.972923         40.782520                  N            435   \n",
       "\n",
       "  pickup_date         pickup_time dropoff_date        dropoff_time  \n",
       "0  2016-03-14 2024-05-27 17:24:55   2016-03-14 2024-05-27 17:32:30  \n",
       "1  2016-06-12 2024-05-27 00:43:35   2016-06-12 2024-05-27 00:54:38  \n",
       "2  2016-01-19 2024-05-27 11:35:24   2016-01-19 2024-05-27 12:10:48  \n",
       "3  2016-04-06 2024-05-27 19:32:31   2016-04-06 2024-05-27 19:39:40  \n",
       "4  2016-03-26 2024-05-27 13:30:55   2016-03-26 2024-05-27 13:38:10  "
      ]
     },
     "execution_count": 45,
     "metadata": {},
     "output_type": "execute_result"
    }
   ],
   "source": [
    "modified_dataframe.head()"
   ]
  },
  {
   "cell_type": "code",
   "execution_count": 46,
   "id": "6746897c",
   "metadata": {
    "execution": {
     "iopub.execute_input": "2024-03-17T08:49:27.057689Z",
     "iopub.status.busy": "2024-03-17T08:49:27.057032Z",
     "iopub.status.idle": "2024-03-17T08:50:24.519954Z",
     "shell.execute_reply": "2024-03-17T08:50:24.518577Z"
    },
    "papermill": {
     "duration": 57.512459,
     "end_time": "2024-03-17T08:50:24.522834",
     "exception": false,
     "start_time": "2024-03-17T08:49:27.010375",
     "status": "completed"
    },
    "tags": []
   },
   "outputs": [],
   "source": [
    "a = 0\n",
    "for i in range(0,df.shape[0]):\n",
    "    if(modified_dataframe[\"pickup_date\"][i]==modified_dataframe[\"dropoff_date\"][i]):\n",
    "        a = 1\n",
    "        if(a == 0):\n",
    "            x = modified_dataframe(\"pickup_date\")[i]\n",
    "            y = modified_datafrmae(\"dropoff_date\")[i]\n",
    "            print(f\"Date is different. Pickup Date = {x} and Dropoff Date is {y}\")\n",
    "        "
   ]
  },
  {
   "cell_type": "code",
   "execution_count": 47,
   "id": "16956f12",
   "metadata": {
    "execution": {
     "iopub.execute_input": "2024-03-17T08:50:24.616015Z",
     "iopub.status.busy": "2024-03-17T08:50:24.615529Z",
     "iopub.status.idle": "2024-03-17T08:50:24.643485Z",
     "shell.execute_reply": "2024-03-17T08:50:24.642348Z"
    },
    "papermill": {
     "duration": 0.077561,
     "end_time": "2024-03-17T08:50:24.645882",
     "exception": false,
     "start_time": "2024-03-17T08:50:24.568321",
     "status": "completed"
    },
    "tags": []
   },
   "outputs": [
    {
     "data": {
      "text/plain": [
       "182"
      ]
     },
     "execution_count": 47,
     "metadata": {},
     "output_type": "execute_result"
    }
   ],
   "source": [
    "df.shape[0] - modified_dataframe.duplicated(subset=\"pickup_date\").sum() "
   ]
  },
  {
   "cell_type": "code",
   "execution_count": 48,
   "id": "7b1bc5a0",
   "metadata": {
    "execution": {
     "iopub.execute_input": "2024-03-17T08:50:24.738374Z",
     "iopub.status.busy": "2024-03-17T08:50:24.737579Z",
     "iopub.status.idle": "2024-03-17T08:50:24.755045Z",
     "shell.execute_reply": "2024-03-17T08:50:24.753871Z"
    },
    "papermill": {
     "duration": 0.06674,
     "end_time": "2024-03-17T08:50:24.757451",
     "exception": false,
     "start_time": "2024-03-17T08:50:24.690711",
     "status": "completed"
    },
    "tags": []
   },
   "outputs": [
    {
     "data": {
      "text/html": [
       "<div>\n",
       "<style scoped>\n",
       "    .dataframe tbody tr th:only-of-type {\n",
       "        vertical-align: middle;\n",
       "    }\n",
       "\n",
       "    .dataframe tbody tr th {\n",
       "        vertical-align: top;\n",
       "    }\n",
       "\n",
       "    .dataframe thead th {\n",
       "        text-align: right;\n",
       "    }\n",
       "</style>\n",
       "<table border=\"1\" class=\"dataframe\">\n",
       "  <thead>\n",
       "    <tr style=\"text-align: right;\">\n",
       "      <th></th>\n",
       "      <th>vendor_id</th>\n",
       "      <th>passenger_count</th>\n",
       "      <th>pickup_longitude</th>\n",
       "      <th>pickup_latitude</th>\n",
       "      <th>dropoff_longitude</th>\n",
       "      <th>dropoff_latitude</th>\n",
       "      <th>store_and_fwd_flag</th>\n",
       "      <th>trip_duration</th>\n",
       "      <th>pickup_date</th>\n",
       "      <th>pickup_time</th>\n",
       "      <th>dropoff_date</th>\n",
       "      <th>dropoff_time</th>\n",
       "    </tr>\n",
       "  </thead>\n",
       "  <tbody>\n",
       "    <tr>\n",
       "      <th>0</th>\n",
       "      <td>2</td>\n",
       "      <td>1</td>\n",
       "      <td>-73.982155</td>\n",
       "      <td>40.767937</td>\n",
       "      <td>-73.964630</td>\n",
       "      <td>40.765602</td>\n",
       "      <td>N</td>\n",
       "      <td>455</td>\n",
       "      <td>2016-03-14</td>\n",
       "      <td>2024-05-27 17:24:55</td>\n",
       "      <td>2016-03-14</td>\n",
       "      <td>2024-05-27 17:32:30</td>\n",
       "    </tr>\n",
       "    <tr>\n",
       "      <th>1</th>\n",
       "      <td>1</td>\n",
       "      <td>1</td>\n",
       "      <td>-73.980415</td>\n",
       "      <td>40.738564</td>\n",
       "      <td>-73.999481</td>\n",
       "      <td>40.731152</td>\n",
       "      <td>N</td>\n",
       "      <td>663</td>\n",
       "      <td>2016-06-12</td>\n",
       "      <td>2024-05-27 00:43:35</td>\n",
       "      <td>2016-06-12</td>\n",
       "      <td>2024-05-27 00:54:38</td>\n",
       "    </tr>\n",
       "    <tr>\n",
       "      <th>2</th>\n",
       "      <td>2</td>\n",
       "      <td>1</td>\n",
       "      <td>-73.979027</td>\n",
       "      <td>40.763939</td>\n",
       "      <td>-74.005333</td>\n",
       "      <td>40.710087</td>\n",
       "      <td>N</td>\n",
       "      <td>2124</td>\n",
       "      <td>2016-01-19</td>\n",
       "      <td>2024-05-27 11:35:24</td>\n",
       "      <td>2016-01-19</td>\n",
       "      <td>2024-05-27 12:10:48</td>\n",
       "    </tr>\n",
       "    <tr>\n",
       "      <th>3</th>\n",
       "      <td>2</td>\n",
       "      <td>1</td>\n",
       "      <td>-74.010040</td>\n",
       "      <td>40.719971</td>\n",
       "      <td>-74.012268</td>\n",
       "      <td>40.706718</td>\n",
       "      <td>N</td>\n",
       "      <td>429</td>\n",
       "      <td>2016-04-06</td>\n",
       "      <td>2024-05-27 19:32:31</td>\n",
       "      <td>2016-04-06</td>\n",
       "      <td>2024-05-27 19:39:40</td>\n",
       "    </tr>\n",
       "    <tr>\n",
       "      <th>4</th>\n",
       "      <td>2</td>\n",
       "      <td>1</td>\n",
       "      <td>-73.973053</td>\n",
       "      <td>40.793209</td>\n",
       "      <td>-73.972923</td>\n",
       "      <td>40.782520</td>\n",
       "      <td>N</td>\n",
       "      <td>435</td>\n",
       "      <td>2016-03-26</td>\n",
       "      <td>2024-05-27 13:30:55</td>\n",
       "      <td>2016-03-26</td>\n",
       "      <td>2024-05-27 13:38:10</td>\n",
       "    </tr>\n",
       "  </tbody>\n",
       "</table>\n",
       "</div>"
      ],
      "text/plain": [
       "   vendor_id  passenger_count  pickup_longitude  pickup_latitude  \\\n",
       "0          2                1        -73.982155        40.767937   \n",
       "1          1                1        -73.980415        40.738564   \n",
       "2          2                1        -73.979027        40.763939   \n",
       "3          2                1        -74.010040        40.719971   \n",
       "4          2                1        -73.973053        40.793209   \n",
       "\n",
       "   dropoff_longitude  dropoff_latitude store_and_fwd_flag  trip_duration  \\\n",
       "0         -73.964630         40.765602                  N            455   \n",
       "1         -73.999481         40.731152                  N            663   \n",
       "2         -74.005333         40.710087                  N           2124   \n",
       "3         -74.012268         40.706718                  N            429   \n",
       "4         -73.972923         40.782520                  N            435   \n",
       "\n",
       "  pickup_date         pickup_time dropoff_date        dropoff_time  \n",
       "0  2016-03-14 2024-05-27 17:24:55   2016-03-14 2024-05-27 17:32:30  \n",
       "1  2016-06-12 2024-05-27 00:43:35   2016-06-12 2024-05-27 00:54:38  \n",
       "2  2016-01-19 2024-05-27 11:35:24   2016-01-19 2024-05-27 12:10:48  \n",
       "3  2016-04-06 2024-05-27 19:32:31   2016-04-06 2024-05-27 19:39:40  \n",
       "4  2016-03-26 2024-05-27 13:30:55   2016-03-26 2024-05-27 13:38:10  "
      ]
     },
     "execution_count": 48,
     "metadata": {},
     "output_type": "execute_result"
    }
   ],
   "source": [
    "modified_dataframe.head()"
   ]
  },
  {
   "cell_type": "code",
   "execution_count": 49,
   "id": "98905bd3",
   "metadata": {
    "execution": {
     "iopub.execute_input": "2024-03-17T08:50:24.850951Z",
     "iopub.status.busy": "2024-03-17T08:50:24.850487Z",
     "iopub.status.idle": "2024-03-17T08:50:24.867670Z",
     "shell.execute_reply": "2024-03-17T08:50:24.866555Z"
    },
    "papermill": {
     "duration": 0.067462,
     "end_time": "2024-03-17T08:50:24.870182",
     "exception": false,
     "start_time": "2024-03-17T08:50:24.802720",
     "status": "completed"
    },
    "tags": []
   },
   "outputs": [
    {
     "data": {
      "text/html": [
       "<div>\n",
       "<style scoped>\n",
       "    .dataframe tbody tr th:only-of-type {\n",
       "        vertical-align: middle;\n",
       "    }\n",
       "\n",
       "    .dataframe tbody tr th {\n",
       "        vertical-align: top;\n",
       "    }\n",
       "\n",
       "    .dataframe thead th {\n",
       "        text-align: right;\n",
       "    }\n",
       "</style>\n",
       "<table border=\"1\" class=\"dataframe\">\n",
       "  <thead>\n",
       "    <tr style=\"text-align: right;\">\n",
       "      <th></th>\n",
       "      <th>vendor_id</th>\n",
       "      <th>pickup_datetime</th>\n",
       "      <th>dropoff_datetime</th>\n",
       "      <th>passenger_count</th>\n",
       "      <th>pickup_longitude</th>\n",
       "      <th>pickup_latitude</th>\n",
       "      <th>dropoff_longitude</th>\n",
       "      <th>dropoff_latitude</th>\n",
       "      <th>store_and_fwd_flag</th>\n",
       "      <th>trip_duration</th>\n",
       "    </tr>\n",
       "  </thead>\n",
       "  <tbody>\n",
       "    <tr>\n",
       "      <th>0</th>\n",
       "      <td>2</td>\n",
       "      <td>2016-03-14 17:24:55</td>\n",
       "      <td>2016-03-14 17:32:30</td>\n",
       "      <td>1</td>\n",
       "      <td>-73.982155</td>\n",
       "      <td>40.767937</td>\n",
       "      <td>-73.964630</td>\n",
       "      <td>40.765602</td>\n",
       "      <td>N</td>\n",
       "      <td>455</td>\n",
       "    </tr>\n",
       "    <tr>\n",
       "      <th>1</th>\n",
       "      <td>1</td>\n",
       "      <td>2016-06-12 00:43:35</td>\n",
       "      <td>2016-06-12 00:54:38</td>\n",
       "      <td>1</td>\n",
       "      <td>-73.980415</td>\n",
       "      <td>40.738564</td>\n",
       "      <td>-73.999481</td>\n",
       "      <td>40.731152</td>\n",
       "      <td>N</td>\n",
       "      <td>663</td>\n",
       "    </tr>\n",
       "    <tr>\n",
       "      <th>2</th>\n",
       "      <td>2</td>\n",
       "      <td>2016-01-19 11:35:24</td>\n",
       "      <td>2016-01-19 12:10:48</td>\n",
       "      <td>1</td>\n",
       "      <td>-73.979027</td>\n",
       "      <td>40.763939</td>\n",
       "      <td>-74.005333</td>\n",
       "      <td>40.710087</td>\n",
       "      <td>N</td>\n",
       "      <td>2124</td>\n",
       "    </tr>\n",
       "    <tr>\n",
       "      <th>3</th>\n",
       "      <td>2</td>\n",
       "      <td>2016-04-06 19:32:31</td>\n",
       "      <td>2016-04-06 19:39:40</td>\n",
       "      <td>1</td>\n",
       "      <td>-74.010040</td>\n",
       "      <td>40.719971</td>\n",
       "      <td>-74.012268</td>\n",
       "      <td>40.706718</td>\n",
       "      <td>N</td>\n",
       "      <td>429</td>\n",
       "    </tr>\n",
       "    <tr>\n",
       "      <th>4</th>\n",
       "      <td>2</td>\n",
       "      <td>2016-03-26 13:30:55</td>\n",
       "      <td>2016-03-26 13:38:10</td>\n",
       "      <td>1</td>\n",
       "      <td>-73.973053</td>\n",
       "      <td>40.793209</td>\n",
       "      <td>-73.972923</td>\n",
       "      <td>40.782520</td>\n",
       "      <td>N</td>\n",
       "      <td>435</td>\n",
       "    </tr>\n",
       "  </tbody>\n",
       "</table>\n",
       "</div>"
      ],
      "text/plain": [
       "   vendor_id      pickup_datetime     dropoff_datetime  passenger_count  \\\n",
       "0          2  2016-03-14 17:24:55  2016-03-14 17:32:30                1   \n",
       "1          1  2016-06-12 00:43:35  2016-06-12 00:54:38                1   \n",
       "2          2  2016-01-19 11:35:24  2016-01-19 12:10:48                1   \n",
       "3          2  2016-04-06 19:32:31  2016-04-06 19:39:40                1   \n",
       "4          2  2016-03-26 13:30:55  2016-03-26 13:38:10                1   \n",
       "\n",
       "   pickup_longitude  pickup_latitude  dropoff_longitude  dropoff_latitude  \\\n",
       "0        -73.982155        40.767937         -73.964630         40.765602   \n",
       "1        -73.980415        40.738564         -73.999481         40.731152   \n",
       "2        -73.979027        40.763939         -74.005333         40.710087   \n",
       "3        -74.010040        40.719971         -74.012268         40.706718   \n",
       "4        -73.973053        40.793209         -73.972923         40.782520   \n",
       "\n",
       "  store_and_fwd_flag  trip_duration  \n",
       "0                  N            455  \n",
       "1                  N            663  \n",
       "2                  N           2124  \n",
       "3                  N            429  \n",
       "4                  N            435  "
      ]
     },
     "execution_count": 49,
     "metadata": {},
     "output_type": "execute_result"
    }
   ],
   "source": [
    "df.head()"
   ]
  },
  {
   "cell_type": "code",
   "execution_count": 50,
   "id": "8a7df9e5",
   "metadata": {
    "execution": {
     "iopub.execute_input": "2024-03-17T08:50:24.963270Z",
     "iopub.status.busy": "2024-03-17T08:50:24.962765Z",
     "iopub.status.idle": "2024-03-17T08:50:26.073724Z",
     "shell.execute_reply": "2024-03-17T08:50:26.072540Z"
    },
    "papermill": {
     "duration": 1.161165,
     "end_time": "2024-03-17T08:50:26.076525",
     "exception": false,
     "start_time": "2024-03-17T08:50:24.915360",
     "status": "completed"
    },
    "tags": []
   },
   "outputs": [],
   "source": [
    "df[\"pickup_datetime\"] = pd.to_datetime(df[\"pickup_datetime\"])\n",
    "df[\"dropoff_datetime\"] = pd.to_datetime(df[\"dropoff_datetime\"])"
   ]
  },
  {
   "cell_type": "code",
   "execution_count": 51,
   "id": "fe81d20f",
   "metadata": {
    "execution": {
     "iopub.execute_input": "2024-03-17T08:50:26.170797Z",
     "iopub.status.busy": "2024-03-17T08:50:26.170410Z",
     "iopub.status.idle": "2024-03-17T08:50:26.187783Z",
     "shell.execute_reply": "2024-03-17T08:50:26.186350Z"
    },
    "papermill": {
     "duration": 0.068153,
     "end_time": "2024-03-17T08:50:26.190176",
     "exception": false,
     "start_time": "2024-03-17T08:50:26.122023",
     "status": "completed"
    },
    "tags": []
   },
   "outputs": [
    {
     "data": {
      "text/html": [
       "<div>\n",
       "<style scoped>\n",
       "    .dataframe tbody tr th:only-of-type {\n",
       "        vertical-align: middle;\n",
       "    }\n",
       "\n",
       "    .dataframe tbody tr th {\n",
       "        vertical-align: top;\n",
       "    }\n",
       "\n",
       "    .dataframe thead th {\n",
       "        text-align: right;\n",
       "    }\n",
       "</style>\n",
       "<table border=\"1\" class=\"dataframe\">\n",
       "  <thead>\n",
       "    <tr style=\"text-align: right;\">\n",
       "      <th></th>\n",
       "      <th>vendor_id</th>\n",
       "      <th>pickup_datetime</th>\n",
       "      <th>dropoff_datetime</th>\n",
       "      <th>passenger_count</th>\n",
       "      <th>pickup_longitude</th>\n",
       "      <th>pickup_latitude</th>\n",
       "      <th>dropoff_longitude</th>\n",
       "      <th>dropoff_latitude</th>\n",
       "      <th>store_and_fwd_flag</th>\n",
       "      <th>trip_duration</th>\n",
       "    </tr>\n",
       "  </thead>\n",
       "  <tbody>\n",
       "    <tr>\n",
       "      <th>0</th>\n",
       "      <td>2</td>\n",
       "      <td>2016-03-14 17:24:55</td>\n",
       "      <td>2016-03-14 17:32:30</td>\n",
       "      <td>1</td>\n",
       "      <td>-73.982155</td>\n",
       "      <td>40.767937</td>\n",
       "      <td>-73.964630</td>\n",
       "      <td>40.765602</td>\n",
       "      <td>N</td>\n",
       "      <td>455</td>\n",
       "    </tr>\n",
       "    <tr>\n",
       "      <th>1</th>\n",
       "      <td>1</td>\n",
       "      <td>2016-06-12 00:43:35</td>\n",
       "      <td>2016-06-12 00:54:38</td>\n",
       "      <td>1</td>\n",
       "      <td>-73.980415</td>\n",
       "      <td>40.738564</td>\n",
       "      <td>-73.999481</td>\n",
       "      <td>40.731152</td>\n",
       "      <td>N</td>\n",
       "      <td>663</td>\n",
       "    </tr>\n",
       "    <tr>\n",
       "      <th>2</th>\n",
       "      <td>2</td>\n",
       "      <td>2016-01-19 11:35:24</td>\n",
       "      <td>2016-01-19 12:10:48</td>\n",
       "      <td>1</td>\n",
       "      <td>-73.979027</td>\n",
       "      <td>40.763939</td>\n",
       "      <td>-74.005333</td>\n",
       "      <td>40.710087</td>\n",
       "      <td>N</td>\n",
       "      <td>2124</td>\n",
       "    </tr>\n",
       "    <tr>\n",
       "      <th>3</th>\n",
       "      <td>2</td>\n",
       "      <td>2016-04-06 19:32:31</td>\n",
       "      <td>2016-04-06 19:39:40</td>\n",
       "      <td>1</td>\n",
       "      <td>-74.010040</td>\n",
       "      <td>40.719971</td>\n",
       "      <td>-74.012268</td>\n",
       "      <td>40.706718</td>\n",
       "      <td>N</td>\n",
       "      <td>429</td>\n",
       "    </tr>\n",
       "    <tr>\n",
       "      <th>4</th>\n",
       "      <td>2</td>\n",
       "      <td>2016-03-26 13:30:55</td>\n",
       "      <td>2016-03-26 13:38:10</td>\n",
       "      <td>1</td>\n",
       "      <td>-73.973053</td>\n",
       "      <td>40.793209</td>\n",
       "      <td>-73.972923</td>\n",
       "      <td>40.782520</td>\n",
       "      <td>N</td>\n",
       "      <td>435</td>\n",
       "    </tr>\n",
       "  </tbody>\n",
       "</table>\n",
       "</div>"
      ],
      "text/plain": [
       "   vendor_id     pickup_datetime    dropoff_datetime  passenger_count  \\\n",
       "0          2 2016-03-14 17:24:55 2016-03-14 17:32:30                1   \n",
       "1          1 2016-06-12 00:43:35 2016-06-12 00:54:38                1   \n",
       "2          2 2016-01-19 11:35:24 2016-01-19 12:10:48                1   \n",
       "3          2 2016-04-06 19:32:31 2016-04-06 19:39:40                1   \n",
       "4          2 2016-03-26 13:30:55 2016-03-26 13:38:10                1   \n",
       "\n",
       "   pickup_longitude  pickup_latitude  dropoff_longitude  dropoff_latitude  \\\n",
       "0        -73.982155        40.767937         -73.964630         40.765602   \n",
       "1        -73.980415        40.738564         -73.999481         40.731152   \n",
       "2        -73.979027        40.763939         -74.005333         40.710087   \n",
       "3        -74.010040        40.719971         -74.012268         40.706718   \n",
       "4        -73.973053        40.793209         -73.972923         40.782520   \n",
       "\n",
       "  store_and_fwd_flag  trip_duration  \n",
       "0                  N            455  \n",
       "1                  N            663  \n",
       "2                  N           2124  \n",
       "3                  N            429  \n",
       "4                  N            435  "
      ]
     },
     "execution_count": 51,
     "metadata": {},
     "output_type": "execute_result"
    }
   ],
   "source": [
    "df.head()"
   ]
  },
  {
   "cell_type": "code",
   "execution_count": 52,
   "id": "75e2c3d2",
   "metadata": {
    "execution": {
     "iopub.execute_input": "2024-03-17T08:50:26.286647Z",
     "iopub.status.busy": "2024-03-17T08:50:26.286215Z",
     "iopub.status.idle": "2024-03-17T08:50:26.481789Z",
     "shell.execute_reply": "2024-03-17T08:50:26.480170Z"
    },
    "papermill": {
     "duration": 0.247171,
     "end_time": "2024-03-17T08:50:26.485078",
     "exception": false,
     "start_time": "2024-03-17T08:50:26.237907",
     "status": "completed"
    },
    "tags": []
   },
   "outputs": [
    {
     "name": "stdout",
     "output_type": "stream",
     "text": [
      "<class 'pandas.core.frame.DataFrame'>\n",
      "RangeIndex: 1458644 entries, 0 to 1458643\n",
      "Data columns (total 10 columns):\n",
      " #   Column              Non-Null Count    Dtype         \n",
      "---  ------              --------------    -----         \n",
      " 0   vendor_id           1458644 non-null  int64         \n",
      " 1   pickup_datetime     1458644 non-null  datetime64[ns]\n",
      " 2   dropoff_datetime    1458644 non-null  datetime64[ns]\n",
      " 3   passenger_count     1458644 non-null  int64         \n",
      " 4   pickup_longitude    1458644 non-null  float64       \n",
      " 5   pickup_latitude     1458644 non-null  float64       \n",
      " 6   dropoff_longitude   1458644 non-null  float64       \n",
      " 7   dropoff_latitude    1458644 non-null  float64       \n",
      " 8   store_and_fwd_flag  1458644 non-null  object        \n",
      " 9   trip_duration       1458644 non-null  int64         \n",
      "dtypes: datetime64[ns](2), float64(4), int64(3), object(1)\n",
      "memory usage: 111.3+ MB\n"
     ]
    }
   ],
   "source": [
    "df.info()"
   ]
  },
  {
   "cell_type": "code",
   "execution_count": 28,
   "id": "462a9144",
   "metadata": {
    "execution": {
     "iopub.execute_input": "2024-03-17T08:50:26.579743Z",
     "iopub.status.busy": "2024-03-17T08:50:26.579339Z",
     "iopub.status.idle": "2024-03-17T08:50:28.192198Z",
     "shell.execute_reply": "2024-03-17T08:50:28.190799Z"
    },
    "papermill": {
     "duration": 1.664778,
     "end_time": "2024-03-17T08:50:28.196410",
     "exception": false,
     "start_time": "2024-03-17T08:50:26.531632",
     "status": "completed"
    },
    "tags": []
   },
   "outputs": [],
   "source": [
    "import seaborn as sns\n",
    "import matplotlib.pyplot as plt"
   ]
  },
  {
   "cell_type": "code",
   "execution_count": 29,
   "id": "90057c86",
   "metadata": {
    "execution": {
     "iopub.execute_input": "2024-03-17T08:50:28.317017Z",
     "iopub.status.busy": "2024-03-17T08:50:28.315925Z",
     "iopub.status.idle": "2024-03-17T08:50:29.366536Z",
     "shell.execute_reply": "2024-03-17T08:50:29.365064Z"
    },
    "papermill": {
     "duration": 1.104015,
     "end_time": "2024-03-17T08:50:29.369495",
     "exception": false,
     "start_time": "2024-03-17T08:50:28.265480",
     "status": "completed"
    },
    "tags": []
   },
   "outputs": [
    {
     "data": {
      "text/plain": [
       "<Axes: xlabel='passenger_count'>"
      ]
     },
     "execution_count": 29,
     "metadata": {},
     "output_type": "execute_result"
    },
    {
     "data": {
      "image/png": "[encoded data removed]",
      "text/plain": [
       "<Figure size 640x480 with 1 Axes>"
      ]
     },
     "metadata": {},
     "output_type": "display_data"
    }
   ],
   "source": [
    "sns.boxplot(data=df,x=\"passenger_count\")"
   ]
  },
  {
   "cell_type": "code",
   "execution_count": 53,
   "id": "5e2e7e4d",
   "metadata": {
    "execution": {
     "iopub.execute_input": "2024-03-17T08:50:29.465326Z",
     "iopub.status.busy": "2024-03-17T08:50:29.464676Z",
     "iopub.status.idle": "2024-03-17T08:50:29.488554Z",
     "shell.execute_reply": "2024-03-17T08:50:29.487071Z"
    },
    "papermill": {
     "duration": 0.074953,
     "end_time": "2024-03-17T08:50:29.491250",
     "exception": false,
     "start_time": "2024-03-17T08:50:29.416297",
     "status": "completed"
    },
    "tags": []
   },
   "outputs": [
    {
     "data": {
      "text/plain": [
       "passenger_count\n",
       "1    1033540\n",
       "2     210318\n",
       "5      78088\n",
       "3      59896\n",
       "6      48333\n",
       "4      28404\n",
       "0         60\n",
       "7          3\n",
       "9          1\n",
       "8          1\n",
       "Name: count, dtype: int64"
      ]
     },
     "execution_count": 53,
     "metadata": {},
     "output_type": "execute_result"
    }
   ],
   "source": [
    "df[\"passenger_count\"].value_counts()"
   ]
  },
  {
   "cell_type": "code",
   "execution_count": 54,
   "id": "6b56cecd",
   "metadata": {
    "execution": {
     "iopub.execute_input": "2024-03-17T08:50:29.587653Z",
     "iopub.status.busy": "2024-03-17T08:50:29.587276Z",
     "iopub.status.idle": "2024-03-17T08:50:47.068954Z",
     "shell.execute_reply": "2024-03-17T08:50:47.068062Z"
    },
    "papermill": {
     "duration": 17.534339,
     "end_time": "2024-03-17T08:50:47.071885",
     "exception": false,
     "start_time": "2024-03-17T08:50:29.537546",
     "status": "completed"
    },
    "tags": []
   },
   "outputs": [
    {
     "name": "stderr",
     "output_type": "stream",
     "text": [
      "C:\\Users\\User\\AppData\\Local\\Temp\\ipykernel_15524\\1519723704.py:3: FutureWarning: A value is trying to be set on a copy of a DataFrame or Series through chained assignment using an inplace method.\n",
      "The behavior will change in pandas 3.0. This inplace method will never work because the intermediate object on which we are setting values always behaves as a copy.\n",
      "\n",
      "For example, when doing 'df[col].method(value, inplace=True)', try using 'df.method({col: value}, inplace=True)' or df[col] = df[col].method(value) instead, to perform the operation inplace on the original object.\n",
      "\n",
      "\n",
      "  df[\"passenger_count\"].replace(df[\"passenger_count\"][i],np.nan,inplace=True)\n"
     ]
    }
   ],
   "source": [
    "for i in range(0,df.shape[0]):\n",
    "    if(df[\"passenger_count\"][i] in [0,7,8,9]):\n",
    "        df[\"passenger_count\"].replace(df[\"passenger_count\"][i],np.nan,inplace=True)"
   ]
  },
  {
   "cell_type": "code",
   "execution_count": 55,
   "id": "0cc4ee03",
   "metadata": {
    "execution": {
     "iopub.execute_input": "2024-03-17T08:50:47.177315Z",
     "iopub.status.busy": "2024-03-17T08:50:47.176624Z",
     "iopub.status.idle": "2024-03-17T08:50:47.201786Z",
     "shell.execute_reply": "2024-03-17T08:50:47.200664Z"
    },
    "papermill": {
     "duration": 0.084623,
     "end_time": "2024-03-17T08:50:47.204874",
     "exception": false,
     "start_time": "2024-03-17T08:50:47.120251",
     "status": "completed"
    },
    "tags": []
   },
   "outputs": [],
   "source": [
    "df[\"passenger_count\"] = df[\"passenger_count\"].replace(df[\"passenger_count\"][i], np.nan)\n",
    "\n",
    "df.loc[i, \"passenger_count\"] = np.nan"
   ]
  },
  {
   "cell_type": "code",
   "execution_count": 36,
   "id": "17160ab3",
   "metadata": {
    "execution": {
     "iopub.execute_input": "2024-03-17T08:50:48.149493Z",
     "iopub.status.busy": "2024-03-17T08:50:48.148923Z",
     "iopub.status.idle": "2024-03-17T08:50:48.430566Z",
     "shell.execute_reply": "2024-03-17T08:50:48.428954Z"
    },
    "papermill": {
     "duration": 0.335229,
     "end_time": "2024-03-17T08:50:48.433557",
     "exception": false,
     "start_time": "2024-03-17T08:50:48.098328",
     "status": "completed"
    },
    "tags": []
   },
   "outputs": [
    {
     "data": {
      "text/plain": [
       "<Axes: xlabel='passenger_count'>"
      ]
     },
     "execution_count": 36,
     "metadata": {},
     "output_type": "execute_result"
    },
    {
     "data": {
      "image/png": "[encoded data removed]",
      "text/plain": [
       "<Figure size 640x480 with 1 Axes>"
      ]
     },
     "metadata": {},
     "output_type": "display_data"
    }
   ],
   "source": [
    "sns.boxplot(data=df,x=\"passenger_count\")"
   ]
  },
  {
   "cell_type": "code",
   "execution_count": 37,
   "id": "d74feb8e",
   "metadata": {
    "execution": {
     "iopub.execute_input": "2024-03-17T08:50:48.532198Z",
     "iopub.status.busy": "2024-03-17T08:50:48.531668Z",
     "iopub.status.idle": "2024-03-17T08:50:48.772177Z",
     "shell.execute_reply": "2024-03-17T08:50:48.770584Z"
    },
    "papermill": {
     "duration": 0.29286,
     "end_time": "2024-03-17T08:50:48.775006",
     "exception": false,
     "start_time": "2024-03-17T08:50:48.482146",
     "status": "completed"
    },
    "tags": []
   },
   "outputs": [
    {
     "data": {
      "text/html": [
       "<div>\n",
       "<style scoped>\n",
       "    .dataframe tbody tr th:only-of-type {\n",
       "        vertical-align: middle;\n",
       "    }\n",
       "\n",
       "    .dataframe tbody tr th {\n",
       "        vertical-align: top;\n",
       "    }\n",
       "\n",
       "    .dataframe thead th {\n",
       "        text-align: right;\n",
       "    }\n",
       "</style>\n",
       "<table border=\"1\" class=\"dataframe\">\n",
       "  <thead>\n",
       "    <tr style=\"text-align: right;\">\n",
       "      <th></th>\n",
       "      <th>vendor_id</th>\n",
       "      <th>pickup_datetime</th>\n",
       "      <th>dropoff_datetime</th>\n",
       "      <th>passenger_count</th>\n",
       "      <th>pickup_longitude</th>\n",
       "      <th>pickup_latitude</th>\n",
       "      <th>dropoff_longitude</th>\n",
       "      <th>dropoff_latitude</th>\n",
       "      <th>trip_duration</th>\n",
       "    </tr>\n",
       "  </thead>\n",
       "  <tbody>\n",
       "    <tr>\n",
       "      <th>count</th>\n",
       "      <td>425039.000000</td>\n",
       "      <td>425039</td>\n",
       "      <td>425039</td>\n",
       "      <td>425039.000000</td>\n",
       "      <td>425039.000000</td>\n",
       "      <td>425039.000000</td>\n",
       "      <td>425039.000000</td>\n",
       "      <td>425039.000000</td>\n",
       "      <td>4.250390e+05</td>\n",
       "    </tr>\n",
       "    <tr>\n",
       "      <th>mean</th>\n",
       "      <td>1.699971</td>\n",
       "      <td>2016-04-01 15:17:14.185813504</td>\n",
       "      <td>2016-04-01 15:34:24.322946816</td>\n",
       "      <td>3.280588</td>\n",
       "      <td>-73.973332</td>\n",
       "      <td>40.750224</td>\n",
       "      <td>-73.973527</td>\n",
       "      <td>40.751370</td>\n",
       "      <td>1.030137e+03</td>\n",
       "    </tr>\n",
       "    <tr>\n",
       "      <th>min</th>\n",
       "      <td>1.000000</td>\n",
       "      <td>2016-01-01 00:00:17</td>\n",
       "      <td>2016-01-01 00:07:49</td>\n",
       "      <td>2.000000</td>\n",
       "      <td>-121.933342</td>\n",
       "      <td>34.359695</td>\n",
       "      <td>-121.933304</td>\n",
       "      <td>32.181141</td>\n",
       "      <td>1.000000e+00</td>\n",
       "    </tr>\n",
       "    <tr>\n",
       "      <th>25%</th>\n",
       "      <td>1.000000</td>\n",
       "      <td>2016-02-17 21:32:40.500000</td>\n",
       "      <td>2016-02-17 21:44:45.500000</td>\n",
       "      <td>2.000000</td>\n",
       "      <td>-73.992073</td>\n",
       "      <td>40.736538</td>\n",
       "      <td>-73.991409</td>\n",
       "      <td>40.735201</td>\n",
       "      <td>4.120000e+02</td>\n",
       "    </tr>\n",
       "    <tr>\n",
       "      <th>50%</th>\n",
       "      <td>2.000000</td>\n",
       "      <td>2016-04-02 01:08:45</td>\n",
       "      <td>2016-04-02 01:23:43</td>\n",
       "      <td>3.000000</td>\n",
       "      <td>-73.982040</td>\n",
       "      <td>40.753685</td>\n",
       "      <td>-73.980186</td>\n",
       "      <td>40.754391</td>\n",
       "      <td>6.830000e+02</td>\n",
       "    </tr>\n",
       "    <tr>\n",
       "      <th>75%</th>\n",
       "      <td>2.000000</td>\n",
       "      <td>2016-05-15 12:15:40.500000</td>\n",
       "      <td>2016-05-15 12:32:23</td>\n",
       "      <td>5.000000</td>\n",
       "      <td>-73.967781</td>\n",
       "      <td>40.768082</td>\n",
       "      <td>-73.963226</td>\n",
       "      <td>40.769676</td>\n",
       "      <td>1.109000e+03</td>\n",
       "    </tr>\n",
       "    <tr>\n",
       "      <th>max</th>\n",
       "      <td>2.000000</td>\n",
       "      <td>2016-06-30 23:59:37</td>\n",
       "      <td>2016-07-01 23:02:03</td>\n",
       "      <td>6.000000</td>\n",
       "      <td>-61.335529</td>\n",
       "      <td>41.319164</td>\n",
       "      <td>-61.335529</td>\n",
       "      <td>43.921028</td>\n",
       "      <td>2.049578e+06</td>\n",
       "    </tr>\n",
       "    <tr>\n",
       "      <th>std</th>\n",
       "      <td>0.458271</td>\n",
       "      <td>NaN</td>\n",
       "      <td>NaN</td>\n",
       "      <td>1.497074</td>\n",
       "      <td>0.114458</td>\n",
       "      <td>0.035922</td>\n",
       "      <td>0.114525</td>\n",
       "      <td>0.040351</td>\n",
       "      <td>4.853264e+03</td>\n",
       "    </tr>\n",
       "  </tbody>\n",
       "</table>\n",
       "</div>"
      ],
      "text/plain": [
       "           vendor_id                pickup_datetime  \\\n",
       "count  425039.000000                         425039   \n",
       "mean        1.699971  2016-04-01 15:17:14.185813504   \n",
       "min         1.000000            2016-01-01 00:00:17   \n",
       "25%         1.000000     2016-02-17 21:32:40.500000   \n",
       "50%         2.000000            2016-04-02 01:08:45   \n",
       "75%         2.000000     2016-05-15 12:15:40.500000   \n",
       "max         2.000000            2016-06-30 23:59:37   \n",
       "std         0.458271                            NaN   \n",
       "\n",
       "                    dropoff_datetime  passenger_count  pickup_longitude  \\\n",
       "count                         425039    425039.000000     425039.000000   \n",
       "mean   2016-04-01 15:34:24.322946816         3.280588        -73.973332   \n",
       "min              2016-01-01 00:07:49         2.000000       -121.933342   \n",
       "25%       2016-02-17 21:44:45.500000         2.000000        -73.992073   \n",
       "50%              2016-04-02 01:23:43         3.000000        -73.982040   \n",
       "75%              2016-05-15 12:32:23         5.000000        -73.967781   \n",
       "max              2016-07-01 23:02:03         6.000000        -61.335529   \n",
       "std                              NaN         1.497074          0.114458   \n",
       "\n",
       "       pickup_latitude  dropoff_longitude  dropoff_latitude  trip_duration  \n",
       "count    425039.000000      425039.000000     425039.000000   4.250390e+05  \n",
       "mean         40.750224         -73.973527         40.751370   1.030137e+03  \n",
       "min          34.359695        -121.933304         32.181141   1.000000e+00  \n",
       "25%          40.736538         -73.991409         40.735201   4.120000e+02  \n",
       "50%          40.753685         -73.980186         40.754391   6.830000e+02  \n",
       "75%          40.768082         -73.963226         40.769676   1.109000e+03  \n",
       "max          41.319164         -61.335529         43.921028   2.049578e+06  \n",
       "std           0.035922           0.114525          0.040351   4.853264e+03  "
      ]
     },
     "execution_count": 37,
     "metadata": {},
     "output_type": "execute_result"
    }
   ],
   "source": [
    "df.describe()"
   ]
  },
  {
   "cell_type": "code",
   "execution_count": 38,
   "id": "feaf5a7e",
   "metadata": {
    "execution": {
     "iopub.execute_input": "2024-03-17T08:50:48.873502Z",
     "iopub.status.busy": "2024-03-17T08:50:48.872989Z",
     "iopub.status.idle": "2024-03-17T08:50:48.893816Z",
     "shell.execute_reply": "2024-03-17T08:50:48.892398Z"
    },
    "papermill": {
     "duration": 0.073138,
     "end_time": "2024-03-17T08:50:48.896182",
     "exception": false,
     "start_time": "2024-03-17T08:50:48.823044",
     "status": "completed"
    },
    "tags": []
   },
   "outputs": [
    {
     "data": {
      "text/plain": [
       "passenger_count\n",
       "2.0    210318\n",
       "5.0     78088\n",
       "3.0     59896\n",
       "6.0     48333\n",
       "4.0     28404\n",
       "Name: count, dtype: int64"
      ]
     },
     "execution_count": 38,
     "metadata": {},
     "output_type": "execute_result"
    }
   ],
   "source": [
    "df.passenger_count.value_counts()"
   ]
  },
  {
   "cell_type": "code",
   "execution_count": 39,
   "id": "1b4297c3",
   "metadata": {
    "execution": {
     "iopub.execute_input": "2024-03-17T08:50:48.996826Z",
     "iopub.status.busy": "2024-03-17T08:50:48.996334Z",
     "iopub.status.idle": "2024-03-17T08:50:49.032831Z",
     "shell.execute_reply": "2024-03-17T08:50:49.031453Z"
    },
    "papermill": {
     "duration": 0.091002,
     "end_time": "2024-03-17T08:50:49.036403",
     "exception": false,
     "start_time": "2024-03-17T08:50:48.945401",
     "status": "completed"
    },
    "tags": []
   },
   "outputs": [],
   "source": [
    "iqr = df[\"passenger_count\"].quantile(0.75) - df[\"passenger_count\"].quantile(0.25)\n",
    "\n",
    "upper_limit = df[\"passenger_count\"].quantile(0.75) + 1.5 * iqr\n",
    "lower_limit = df[\"passenger_count\"].quantile(0.25) - 1.5 * iqr"
   ]
  },
  {
   "cell_type": "code",
   "execution_count": 40,
   "id": "f4be0705",
   "metadata": {
    "execution": {
     "iopub.execute_input": "2024-03-17T08:50:49.138130Z",
     "iopub.status.busy": "2024-03-17T08:50:49.137641Z",
     "iopub.status.idle": "2024-03-17T08:50:49.144732Z",
     "shell.execute_reply": "2024-03-17T08:50:49.143489Z"
    },
    "papermill": {
     "duration": 0.061681,
     "end_time": "2024-03-17T08:50:49.147591",
     "exception": false,
     "start_time": "2024-03-17T08:50:49.085910",
     "status": "completed"
    },
    "tags": []
   },
   "outputs": [
    {
     "data": {
      "text/plain": [
       "(9.5, -2.5)"
      ]
     },
     "execution_count": 40,
     "metadata": {},
     "output_type": "execute_result"
    }
   ],
   "source": [
    "upper_limit, lower_limit"
   ]
  },
  {
   "cell_type": "code",
   "execution_count": 41,
   "id": "4f3caadf",
   "metadata": {
    "execution": {
     "iopub.execute_input": "2024-03-17T08:50:49.252002Z",
     "iopub.status.busy": "2024-03-17T08:50:49.251578Z",
     "iopub.status.idle": "2024-03-17T08:50:49.257432Z",
     "shell.execute_reply": "2024-03-17T08:50:49.255975Z"
    },
    "papermill": {
     "duration": 0.061002,
     "end_time": "2024-03-17T08:50:49.260299",
     "exception": false,
     "start_time": "2024-03-17T08:50:49.199297",
     "status": "completed"
    },
    "tags": []
   },
   "outputs": [],
   "source": [
    "upper_limit = 3\n",
    "lower_limit = 1"
   ]
  },
  {
   "cell_type": "code",
   "execution_count": 42,
   "id": "3e161205",
   "metadata": {
    "execution": {
     "iopub.execute_input": "2024-03-17T08:50:49.364687Z",
     "iopub.status.busy": "2024-03-17T08:50:49.364291Z",
     "iopub.status.idle": "2024-03-17T08:50:49.373899Z",
     "shell.execute_reply": "2024-03-17T08:50:49.372777Z"
    },
    "papermill": {
     "duration": 0.064939,
     "end_time": "2024-03-17T08:50:49.377192",
     "exception": false,
     "start_time": "2024-03-17T08:50:49.312253",
     "status": "completed"
    },
    "tags": []
   },
   "outputs": [],
   "source": [
    "df[\"passenger_count\"] = np.where(df[\"passenger_count\"]<upper_limit,df[\"passenger_count\"],upper_limit)"
   ]
  },
  {
   "cell_type": "code",
   "execution_count": 43,
   "id": "6408f4d3",
   "metadata": {
    "execution": {
     "iopub.execute_input": "2024-03-17T08:50:49.480470Z",
     "iopub.status.busy": "2024-03-17T08:50:49.480079Z",
     "iopub.status.idle": "2024-03-17T08:50:49.497125Z",
     "shell.execute_reply": "2024-03-17T08:50:49.495940Z"
    },
    "papermill": {
     "duration": 0.071986,
     "end_time": "2024-03-17T08:50:49.499577",
     "exception": false,
     "start_time": "2024-03-17T08:50:49.427591",
     "status": "completed"
    },
    "tags": []
   },
   "outputs": [
    {
     "data": {
      "text/plain": [
       "passenger_count\n",
       "3.0    214721\n",
       "2.0    210318\n",
       "Name: count, dtype: int64"
      ]
     },
     "execution_count": 43,
     "metadata": {},
     "output_type": "execute_result"
    }
   ],
   "source": [
    "df[\"passenger_count\"].value_counts()"
   ]
  },
  {
   "cell_type": "code",
   "execution_count": 44,
   "id": "e11073a4",
   "metadata": {
    "execution": {
     "iopub.execute_input": "2024-03-17T08:50:49.598719Z",
     "iopub.status.busy": "2024-03-17T08:50:49.598230Z",
     "iopub.status.idle": "2024-03-17T08:50:49.815534Z",
     "shell.execute_reply": "2024-03-17T08:50:49.814015Z"
    },
    "papermill": {
     "duration": 0.2701,
     "end_time": "2024-03-17T08:50:49.818513",
     "exception": false,
     "start_time": "2024-03-17T08:50:49.548413",
     "status": "completed"
    },
    "tags": []
   },
   "outputs": [
    {
     "data": {
      "text/html": [
       "<div>\n",
       "<style scoped>\n",
       "    .dataframe tbody tr th:only-of-type {\n",
       "        vertical-align: middle;\n",
       "    }\n",
       "\n",
       "    .dataframe tbody tr th {\n",
       "        vertical-align: top;\n",
       "    }\n",
       "\n",
       "    .dataframe thead th {\n",
       "        text-align: right;\n",
       "    }\n",
       "</style>\n",
       "<table border=\"1\" class=\"dataframe\">\n",
       "  <thead>\n",
       "    <tr style=\"text-align: right;\">\n",
       "      <th></th>\n",
       "      <th>vendor_id</th>\n",
       "      <th>pickup_datetime</th>\n",
       "      <th>dropoff_datetime</th>\n",
       "      <th>passenger_count</th>\n",
       "      <th>pickup_longitude</th>\n",
       "      <th>pickup_latitude</th>\n",
       "      <th>dropoff_longitude</th>\n",
       "      <th>dropoff_latitude</th>\n",
       "      <th>trip_duration</th>\n",
       "    </tr>\n",
       "  </thead>\n",
       "  <tbody>\n",
       "    <tr>\n",
       "      <th>count</th>\n",
       "      <td>425039.000000</td>\n",
       "      <td>425039</td>\n",
       "      <td>425039</td>\n",
       "      <td>425039.000000</td>\n",
       "      <td>425039.000000</td>\n",
       "      <td>425039.000000</td>\n",
       "      <td>425039.000000</td>\n",
       "      <td>425039.000000</td>\n",
       "      <td>4.250390e+05</td>\n",
       "    </tr>\n",
       "    <tr>\n",
       "      <th>mean</th>\n",
       "      <td>1.699971</td>\n",
       "      <td>2016-04-01 15:17:14.185813504</td>\n",
       "      <td>2016-04-01 15:34:24.322946816</td>\n",
       "      <td>2.505180</td>\n",
       "      <td>-73.973332</td>\n",
       "      <td>40.750224</td>\n",
       "      <td>-73.973527</td>\n",
       "      <td>40.751370</td>\n",
       "      <td>1.030137e+03</td>\n",
       "    </tr>\n",
       "    <tr>\n",
       "      <th>min</th>\n",
       "      <td>1.000000</td>\n",
       "      <td>2016-01-01 00:00:17</td>\n",
       "      <td>2016-01-01 00:07:49</td>\n",
       "      <td>2.000000</td>\n",
       "      <td>-121.933342</td>\n",
       "      <td>34.359695</td>\n",
       "      <td>-121.933304</td>\n",
       "      <td>32.181141</td>\n",
       "      <td>1.000000e+00</td>\n",
       "    </tr>\n",
       "    <tr>\n",
       "      <th>25%</th>\n",
       "      <td>1.000000</td>\n",
       "      <td>2016-02-17 21:32:40.500000</td>\n",
       "      <td>2016-02-17 21:44:45.500000</td>\n",
       "      <td>2.000000</td>\n",
       "      <td>-73.992073</td>\n",
       "      <td>40.736538</td>\n",
       "      <td>-73.991409</td>\n",
       "      <td>40.735201</td>\n",
       "      <td>4.120000e+02</td>\n",
       "    </tr>\n",
       "    <tr>\n",
       "      <th>50%</th>\n",
       "      <td>2.000000</td>\n",
       "      <td>2016-04-02 01:08:45</td>\n",
       "      <td>2016-04-02 01:23:43</td>\n",
       "      <td>3.000000</td>\n",
       "      <td>-73.982040</td>\n",
       "      <td>40.753685</td>\n",
       "      <td>-73.980186</td>\n",
       "      <td>40.754391</td>\n",
       "      <td>6.830000e+02</td>\n",
       "    </tr>\n",
       "    <tr>\n",
       "      <th>75%</th>\n",
       "      <td>2.000000</td>\n",
       "      <td>2016-05-15 12:15:40.500000</td>\n",
       "      <td>2016-05-15 12:32:23</td>\n",
       "      <td>3.000000</td>\n",
       "      <td>-73.967781</td>\n",
       "      <td>40.768082</td>\n",
       "      <td>-73.963226</td>\n",
       "      <td>40.769676</td>\n",
       "      <td>1.109000e+03</td>\n",
       "    </tr>\n",
       "    <tr>\n",
       "      <th>max</th>\n",
       "      <td>2.000000</td>\n",
       "      <td>2016-06-30 23:59:37</td>\n",
       "      <td>2016-07-01 23:02:03</td>\n",
       "      <td>3.000000</td>\n",
       "      <td>-61.335529</td>\n",
       "      <td>41.319164</td>\n",
       "      <td>-61.335529</td>\n",
       "      <td>43.921028</td>\n",
       "      <td>2.049578e+06</td>\n",
       "    </tr>\n",
       "    <tr>\n",
       "      <th>std</th>\n",
       "      <td>0.458271</td>\n",
       "      <td>NaN</td>\n",
       "      <td>NaN</td>\n",
       "      <td>0.499974</td>\n",
       "      <td>0.114458</td>\n",
       "      <td>0.035922</td>\n",
       "      <td>0.114525</td>\n",
       "      <td>0.040351</td>\n",
       "      <td>4.853264e+03</td>\n",
       "    </tr>\n",
       "  </tbody>\n",
       "</table>\n",
       "</div>"
      ],
      "text/plain": [
       "           vendor_id                pickup_datetime  \\\n",
       "count  425039.000000                         425039   \n",
       "mean        1.699971  2016-04-01 15:17:14.185813504   \n",
       "min         1.000000            2016-01-01 00:00:17   \n",
       "25%         1.000000     2016-02-17 21:32:40.500000   \n",
       "50%         2.000000            2016-04-02 01:08:45   \n",
       "75%         2.000000     2016-05-15 12:15:40.500000   \n",
       "max         2.000000            2016-06-30 23:59:37   \n",
       "std         0.458271                            NaN   \n",
       "\n",
       "                    dropoff_datetime  passenger_count  pickup_longitude  \\\n",
       "count                         425039    425039.000000     425039.000000   \n",
       "mean   2016-04-01 15:34:24.322946816         2.505180        -73.973332   \n",
       "min              2016-01-01 00:07:49         2.000000       -121.933342   \n",
       "25%       2016-02-17 21:44:45.500000         2.000000        -73.992073   \n",
       "50%              2016-04-02 01:23:43         3.000000        -73.982040   \n",
       "75%              2016-05-15 12:32:23         3.000000        -73.967781   \n",
       "max              2016-07-01 23:02:03         3.000000        -61.335529   \n",
       "std                              NaN         0.499974          0.114458   \n",
       "\n",
       "       pickup_latitude  dropoff_longitude  dropoff_latitude  trip_duration  \n",
       "count    425039.000000      425039.000000     425039.000000   4.250390e+05  \n",
       "mean         40.750224         -73.973527         40.751370   1.030137e+03  \n",
       "min          34.359695        -121.933304         32.181141   1.000000e+00  \n",
       "25%          40.736538         -73.991409         40.735201   4.120000e+02  \n",
       "50%          40.753685         -73.980186         40.754391   6.830000e+02  \n",
       "75%          40.768082         -73.963226         40.769676   1.109000e+03  \n",
       "max          41.319164         -61.335529         43.921028   2.049578e+06  \n",
       "std           0.035922           0.114525          0.040351   4.853264e+03  "
      ]
     },
     "execution_count": 44,
     "metadata": {},
     "output_type": "execute_result"
    }
   ],
   "source": [
    "df.describe()"
   ]
  },
  {
   "cell_type": "code",
   "execution_count": 45,
   "id": "a3e9f722",
   "metadata": {
    "execution": {
     "iopub.execute_input": "2024-03-17T08:50:49.922918Z",
     "iopub.status.busy": "2024-03-17T08:50:49.922494Z",
     "iopub.status.idle": "2024-03-17T08:50:50.110563Z",
     "shell.execute_reply": "2024-03-17T08:50:50.108921Z"
    },
    "papermill": {
     "duration": 0.243268,
     "end_time": "2024-03-17T08:50:50.113575",
     "exception": false,
     "start_time": "2024-03-17T08:50:49.870307",
     "status": "completed"
    },
    "tags": []
   },
   "outputs": [
    {
     "data": {
      "text/plain": [
       "<Axes: xlabel='passenger_count'>"
      ]
     },
     "execution_count": 45,
     "metadata": {},
     "output_type": "execute_result"
    },
    {
     "data": {
      "image/png": "[encoded data removed]",
      "text/plain": [
       "<Figure size 640x480 with 1 Axes>"
      ]
     },
     "metadata": {},
     "output_type": "display_data"
    }
   ],
   "source": [
    "sns.boxplot(data=df,x=\"passenger_count\")"
   ]
  },
  {
   "cell_type": "code",
   "execution_count": 57,
   "id": "9707a750",
   "metadata": {
    "execution": {
     "iopub.execute_input": "2024-03-17T08:50:50.863250Z",
     "iopub.status.busy": "2024-03-17T08:50:50.862512Z",
     "iopub.status.idle": "2024-03-17T08:50:50.870678Z",
     "shell.execute_reply": "2024-03-17T08:50:50.869580Z"
    },
    "papermill": {
     "duration": 0.067957,
     "end_time": "2024-03-17T08:50:50.873952",
     "exception": false,
     "start_time": "2024-03-17T08:50:50.805995",
     "status": "completed"
    },
    "tags": []
   },
   "outputs": [],
   "source": [
    "from math import sin, cos, sqrt, atan2, radians\n",
    "\n",
    "def calculate_distance(lat1, lon1, lat2, lon2):\n",
    "   \n",
    "    lat1_rad = radians(lat1)\n",
    "    lon1_rad = radians(lon1)\n",
    "    lat2_rad = radians(lat2)\n",
    "    lon2_rad = radians(lon2)\n",
    "    \n",
    "    radius = 6371.0\n",
    "    \n",
    "    dlon = lon2_rad - lon1_rad\n",
    "    dlat = lat2_rad - lat1_rad\n",
    "    \n",
    "    a = sin(dlat / 2)**2 + cos(lat1_rad) * cos(lat2_rad) * sin(dlon / 2)**2\n",
    "    c = 2 * atan2(sqrt(a), sqrt(1 - a))\n",
    "    distance = radius * c\n",
    "    \n",
    "    return distance"
   ]
  },
  {
   "cell_type": "code",
   "execution_count": 59,
   "id": "e85a9d30",
   "metadata": {
    "execution": {
     "iopub.execute_input": "2024-03-17T08:50:51.151252Z",
     "iopub.status.busy": "2024-03-17T08:50:51.150431Z",
     "iopub.status.idle": "2024-03-17T08:50:51.157050Z",
     "shell.execute_reply": "2024-03-17T08:50:51.156215Z"
    },
    "papermill": {
     "duration": 0.062698,
     "end_time": "2024-03-17T08:50:51.159562",
     "exception": false,
     "start_time": "2024-03-17T08:50:51.096864",
     "status": "completed"
    },
    "tags": []
   },
   "outputs": [
    {
     "data": {
      "text/plain": [
       "1458644"
      ]
     },
     "execution_count": 59,
     "metadata": {},
     "output_type": "execute_result"
    }
   ],
   "source": [
    "df.shape[0]"
   ]
  },
  {
   "cell_type": "code",
   "execution_count": 60,
   "id": "ab20d8bc",
   "metadata": {
    "execution": {
     "iopub.execute_input": "2024-03-17T08:50:51.266201Z",
     "iopub.status.busy": "2024-03-17T08:50:51.265491Z",
     "iopub.status.idle": "2024-03-17T08:51:24.905895Z",
     "shell.execute_reply": "2024-03-17T08:51:24.904676Z"
    },
    "papermill": {
     "duration": 33.697053,
     "end_time": "2024-03-17T08:51:24.908923",
     "exception": false,
     "start_time": "2024-03-17T08:50:51.211870",
     "status": "completed"
    },
    "tags": []
   },
   "outputs": [],
   "source": [
    "a = []\n",
    "\n",
    "for i in range(df.shape[0]):\n",
    "    lat1 = df[\"pickup_latitude\"].iloc[i]\n",
    "    lon1 = df[\"pickup_longitude\"].iloc[i]\n",
    "    lat2 = df[\"dropoff_latitude\"].iloc[i]\n",
    "    lon2 = df[\"dropoff_longitude\"].iloc[i]\n",
    "    \n",
    "    if pd.notnull(lat1) and pd.notnull(lon1) and pd.notnull(lat2) and pd.notnull(lon2):\n",
    "        distance = calculate_distance(lat1, lon1, lat2, lon2)\n",
    "        a.append(distance)\n",
    "    else:\n",
    "        a.append(np.nan)\n"
   ]
  },
  {
   "cell_type": "code",
   "execution_count": 61,
   "id": "4e452b3c",
   "metadata": {
    "execution": {
     "iopub.execute_input": "2024-03-17T08:51:25.014342Z",
     "iopub.status.busy": "2024-03-17T08:51:25.013844Z",
     "iopub.status.idle": "2024-03-17T08:51:25.087286Z",
     "shell.execute_reply": "2024-03-17T08:51:25.085995Z"
    },
    "papermill": {
     "duration": 0.129974,
     "end_time": "2024-03-17T08:51:25.090598",
     "exception": false,
     "start_time": "2024-03-17T08:51:24.960624",
     "status": "completed"
    },
    "tags": []
   },
   "outputs": [],
   "source": [
    "distance = pd.Series(a)"
   ]
  },
  {
   "cell_type": "code",
   "execution_count": 62,
   "id": "e81f620a",
   "metadata": {
    "execution": {
     "iopub.execute_input": "2024-03-17T08:51:25.195275Z",
     "iopub.status.busy": "2024-03-17T08:51:25.194363Z",
     "iopub.status.idle": "2024-03-17T08:51:25.200917Z",
     "shell.execute_reply": "2024-03-17T08:51:25.199833Z"
    },
    "papermill": {
     "duration": 0.061686,
     "end_time": "2024-03-17T08:51:25.203262",
     "exception": false,
     "start_time": "2024-03-17T08:51:25.141576",
     "status": "completed"
    },
    "tags": []
   },
   "outputs": [
    {
     "data": {
      "text/plain": [
       "(1458644,)"
      ]
     },
     "execution_count": 62,
     "metadata": {},
     "output_type": "execute_result"
    }
   ],
   "source": [
    "distance.shape"
   ]
  },
  {
   "cell_type": "code",
   "execution_count": 63,
   "id": "1a7bb7bd",
   "metadata": {
    "execution": {
     "iopub.execute_input": "2024-03-17T08:51:25.309134Z",
     "iopub.status.busy": "2024-03-17T08:51:25.308636Z",
     "iopub.status.idle": "2024-03-17T08:51:25.316396Z",
     "shell.execute_reply": "2024-03-17T08:51:25.315182Z"
    },
    "papermill": {
     "duration": 0.064004,
     "end_time": "2024-03-17T08:51:25.318956",
     "exception": false,
     "start_time": "2024-03-17T08:51:25.254952",
     "status": "completed"
    },
    "tags": []
   },
   "outputs": [
    {
     "data": {
      "text/plain": [
       "(1458644, 10)"
      ]
     },
     "execution_count": 63,
     "metadata": {},
     "output_type": "execute_result"
    }
   ],
   "source": [
    "df.shape"
   ]
  },
  {
   "cell_type": "code",
   "execution_count": 64,
   "id": "f9c07980",
   "metadata": {
    "execution": {
     "iopub.execute_input": "2024-03-17T08:51:25.428290Z",
     "iopub.status.busy": "2024-03-17T08:51:25.427856Z",
     "iopub.status.idle": "2024-03-17T08:51:25.508616Z",
     "shell.execute_reply": "2024-03-17T08:51:25.507621Z"
    },
    "papermill": {
     "duration": 0.137994,
     "end_time": "2024-03-17T08:51:25.511467",
     "exception": false,
     "start_time": "2024-03-17T08:51:25.373473",
     "status": "completed"
    },
    "tags": []
   },
   "outputs": [],
   "source": [
    "df_reset = df.reset_index(drop=True)\n",
    "distance_reset = distance.reset_index(drop=True)\n",
    "\n",
    "concatenated_df = pd.concat([df_reset, distance_reset], axis=1)\n"
   ]
  },
  {
   "cell_type": "code",
   "execution_count": 65,
   "id": "4e55ce69",
   "metadata": {
    "execution": {
     "iopub.execute_input": "2024-03-17T08:51:25.616999Z",
     "iopub.status.busy": "2024-03-17T08:51:25.616529Z",
     "iopub.status.idle": "2024-03-17T08:51:25.624731Z",
     "shell.execute_reply": "2024-03-17T08:51:25.623317Z"
    },
    "papermill": {
     "duration": 0.063102,
     "end_time": "2024-03-17T08:51:25.627313",
     "exception": false,
     "start_time": "2024-03-17T08:51:25.564211",
     "status": "completed"
    },
    "tags": []
   },
   "outputs": [
    {
     "data": {
      "text/plain": [
       "(1458644, 11)"
      ]
     },
     "execution_count": 65,
     "metadata": {},
     "output_type": "execute_result"
    }
   ],
   "source": [
    "concatenated_df.shape"
   ]
  },
  {
   "cell_type": "code",
   "execution_count": 66,
   "id": "4f9e7828",
   "metadata": {
    "execution": {
     "iopub.execute_input": "2024-03-17T08:51:25.730668Z",
     "iopub.status.busy": "2024-03-17T08:51:25.730276Z",
     "iopub.status.idle": "2024-03-17T08:51:25.751298Z",
     "shell.execute_reply": "2024-03-17T08:51:25.749833Z"
    },
    "papermill": {
     "duration": 0.075587,
     "end_time": "2024-03-17T08:51:25.753824",
     "exception": false,
     "start_time": "2024-03-17T08:51:25.678237",
     "status": "completed"
    },
    "tags": []
   },
   "outputs": [
    {
     "data": {
      "text/html": [
       "<div>\n",
       "<style scoped>\n",
       "    .dataframe tbody tr th:only-of-type {\n",
       "        vertical-align: middle;\n",
       "    }\n",
       "\n",
       "    .dataframe tbody tr th {\n",
       "        vertical-align: top;\n",
       "    }\n",
       "\n",
       "    .dataframe thead th {\n",
       "        text-align: right;\n",
       "    }\n",
       "</style>\n",
       "<table border=\"1\" class=\"dataframe\">\n",
       "  <thead>\n",
       "    <tr style=\"text-align: right;\">\n",
       "      <th></th>\n",
       "      <th>vendor_id</th>\n",
       "      <th>pickup_datetime</th>\n",
       "      <th>dropoff_datetime</th>\n",
       "      <th>passenger_count</th>\n",
       "      <th>pickup_longitude</th>\n",
       "      <th>pickup_latitude</th>\n",
       "      <th>dropoff_longitude</th>\n",
       "      <th>dropoff_latitude</th>\n",
       "      <th>store_and_fwd_flag</th>\n",
       "      <th>trip_duration</th>\n",
       "      <th>0</th>\n",
       "    </tr>\n",
       "  </thead>\n",
       "  <tbody>\n",
       "    <tr>\n",
       "      <th>0</th>\n",
       "      <td>2</td>\n",
       "      <td>2016-03-14 17:24:55</td>\n",
       "      <td>2016-03-14 17:32:30</td>\n",
       "      <td>NaN</td>\n",
       "      <td>-73.982155</td>\n",
       "      <td>40.767937</td>\n",
       "      <td>-73.964630</td>\n",
       "      <td>40.765602</td>\n",
       "      <td>N</td>\n",
       "      <td>455</td>\n",
       "      <td>1.498521</td>\n",
       "    </tr>\n",
       "    <tr>\n",
       "      <th>1</th>\n",
       "      <td>1</td>\n",
       "      <td>2016-06-12 00:43:35</td>\n",
       "      <td>2016-06-12 00:54:38</td>\n",
       "      <td>NaN</td>\n",
       "      <td>-73.980415</td>\n",
       "      <td>40.738564</td>\n",
       "      <td>-73.999481</td>\n",
       "      <td>40.731152</td>\n",
       "      <td>N</td>\n",
       "      <td>663</td>\n",
       "      <td>1.805507</td>\n",
       "    </tr>\n",
       "    <tr>\n",
       "      <th>2</th>\n",
       "      <td>2</td>\n",
       "      <td>2016-01-19 11:35:24</td>\n",
       "      <td>2016-01-19 12:10:48</td>\n",
       "      <td>NaN</td>\n",
       "      <td>-73.979027</td>\n",
       "      <td>40.763939</td>\n",
       "      <td>-74.005333</td>\n",
       "      <td>40.710087</td>\n",
       "      <td>N</td>\n",
       "      <td>2124</td>\n",
       "      <td>6.385098</td>\n",
       "    </tr>\n",
       "    <tr>\n",
       "      <th>3</th>\n",
       "      <td>2</td>\n",
       "      <td>2016-04-06 19:32:31</td>\n",
       "      <td>2016-04-06 19:39:40</td>\n",
       "      <td>NaN</td>\n",
       "      <td>-74.010040</td>\n",
       "      <td>40.719971</td>\n",
       "      <td>-74.012268</td>\n",
       "      <td>40.706718</td>\n",
       "      <td>N</td>\n",
       "      <td>429</td>\n",
       "      <td>1.485498</td>\n",
       "    </tr>\n",
       "    <tr>\n",
       "      <th>4</th>\n",
       "      <td>2</td>\n",
       "      <td>2016-03-26 13:30:55</td>\n",
       "      <td>2016-03-26 13:38:10</td>\n",
       "      <td>NaN</td>\n",
       "      <td>-73.973053</td>\n",
       "      <td>40.793209</td>\n",
       "      <td>-73.972923</td>\n",
       "      <td>40.782520</td>\n",
       "      <td>N</td>\n",
       "      <td>435</td>\n",
       "      <td>1.188588</td>\n",
       "    </tr>\n",
       "  </tbody>\n",
       "</table>\n",
       "</div>"
      ],
      "text/plain": [
       "   vendor_id     pickup_datetime    dropoff_datetime  passenger_count  \\\n",
       "0          2 2016-03-14 17:24:55 2016-03-14 17:32:30              NaN   \n",
       "1          1 2016-06-12 00:43:35 2016-06-12 00:54:38              NaN   \n",
       "2          2 2016-01-19 11:35:24 2016-01-19 12:10:48              NaN   \n",
       "3          2 2016-04-06 19:32:31 2016-04-06 19:39:40              NaN   \n",
       "4          2 2016-03-26 13:30:55 2016-03-26 13:38:10              NaN   \n",
       "\n",
       "   pickup_longitude  pickup_latitude  dropoff_longitude  dropoff_latitude  \\\n",
       "0        -73.982155        40.767937         -73.964630         40.765602   \n",
       "1        -73.980415        40.738564         -73.999481         40.731152   \n",
       "2        -73.979027        40.763939         -74.005333         40.710087   \n",
       "3        -74.010040        40.719971         -74.012268         40.706718   \n",
       "4        -73.973053        40.793209         -73.972923         40.782520   \n",
       "\n",
       "  store_and_fwd_flag  trip_duration         0  \n",
       "0                  N            455  1.498521  \n",
       "1                  N            663  1.805507  \n",
       "2                  N           2124  6.385098  \n",
       "3                  N            429  1.485498  \n",
       "4                  N            435  1.188588  "
      ]
     },
     "execution_count": 66,
     "metadata": {},
     "output_type": "execute_result"
    }
   ],
   "source": [
    "concatenated_df.head()"
   ]
  },
  {
   "cell_type": "code",
   "execution_count": 67,
   "id": "4115c38c",
   "metadata": {
    "execution": {
     "iopub.execute_input": "2024-03-17T08:51:25.858726Z",
     "iopub.status.busy": "2024-03-17T08:51:25.858269Z",
     "iopub.status.idle": "2024-03-17T08:51:25.865266Z",
     "shell.execute_reply": "2024-03-17T08:51:25.863853Z"
    },
    "papermill": {
     "duration": 0.06296,
     "end_time": "2024-03-17T08:51:25.867979",
     "exception": false,
     "start_time": "2024-03-17T08:51:25.805019",
     "status": "completed"
    },
    "tags": []
   },
   "outputs": [],
   "source": [
    "new_name = {0:\"distance\"}\n",
    "concatenated_df.rename(columns=new_name,inplace=True)"
   ]
  },
  {
   "cell_type": "code",
   "execution_count": 68,
   "id": "7638d5b2",
   "metadata": {
    "execution": {
     "iopub.execute_input": "2024-03-17T08:51:25.972719Z",
     "iopub.status.busy": "2024-03-17T08:51:25.972286Z",
     "iopub.status.idle": "2024-03-17T08:51:25.992948Z",
     "shell.execute_reply": "2024-03-17T08:51:25.991497Z"
    },
    "papermill": {
     "duration": 0.076286,
     "end_time": "2024-03-17T08:51:25.995727",
     "exception": false,
     "start_time": "2024-03-17T08:51:25.919441",
     "status": "completed"
    },
    "tags": []
   },
   "outputs": [
    {
     "data": {
      "text/html": [
       "<div>\n",
       "<style scoped>\n",
       "    .dataframe tbody tr th:only-of-type {\n",
       "        vertical-align: middle;\n",
       "    }\n",
       "\n",
       "    .dataframe tbody tr th {\n",
       "        vertical-align: top;\n",
       "    }\n",
       "\n",
       "    .dataframe thead th {\n",
       "        text-align: right;\n",
       "    }\n",
       "</style>\n",
       "<table border=\"1\" class=\"dataframe\">\n",
       "  <thead>\n",
       "    <tr style=\"text-align: right;\">\n",
       "      <th></th>\n",
       "      <th>vendor_id</th>\n",
       "      <th>pickup_datetime</th>\n",
       "      <th>dropoff_datetime</th>\n",
       "      <th>passenger_count</th>\n",
       "      <th>pickup_longitude</th>\n",
       "      <th>pickup_latitude</th>\n",
       "      <th>dropoff_longitude</th>\n",
       "      <th>dropoff_latitude</th>\n",
       "      <th>store_and_fwd_flag</th>\n",
       "      <th>trip_duration</th>\n",
       "      <th>distance</th>\n",
       "    </tr>\n",
       "  </thead>\n",
       "  <tbody>\n",
       "    <tr>\n",
       "      <th>0</th>\n",
       "      <td>2</td>\n",
       "      <td>2016-03-14 17:24:55</td>\n",
       "      <td>2016-03-14 17:32:30</td>\n",
       "      <td>NaN</td>\n",
       "      <td>-73.982155</td>\n",
       "      <td>40.767937</td>\n",
       "      <td>-73.964630</td>\n",
       "      <td>40.765602</td>\n",
       "      <td>N</td>\n",
       "      <td>455</td>\n",
       "      <td>1.498521</td>\n",
       "    </tr>\n",
       "    <tr>\n",
       "      <th>1</th>\n",
       "      <td>1</td>\n",
       "      <td>2016-06-12 00:43:35</td>\n",
       "      <td>2016-06-12 00:54:38</td>\n",
       "      <td>NaN</td>\n",
       "      <td>-73.980415</td>\n",
       "      <td>40.738564</td>\n",
       "      <td>-73.999481</td>\n",
       "      <td>40.731152</td>\n",
       "      <td>N</td>\n",
       "      <td>663</td>\n",
       "      <td>1.805507</td>\n",
       "    </tr>\n",
       "    <tr>\n",
       "      <th>2</th>\n",
       "      <td>2</td>\n",
       "      <td>2016-01-19 11:35:24</td>\n",
       "      <td>2016-01-19 12:10:48</td>\n",
       "      <td>NaN</td>\n",
       "      <td>-73.979027</td>\n",
       "      <td>40.763939</td>\n",
       "      <td>-74.005333</td>\n",
       "      <td>40.710087</td>\n",
       "      <td>N</td>\n",
       "      <td>2124</td>\n",
       "      <td>6.385098</td>\n",
       "    </tr>\n",
       "    <tr>\n",
       "      <th>3</th>\n",
       "      <td>2</td>\n",
       "      <td>2016-04-06 19:32:31</td>\n",
       "      <td>2016-04-06 19:39:40</td>\n",
       "      <td>NaN</td>\n",
       "      <td>-74.010040</td>\n",
       "      <td>40.719971</td>\n",
       "      <td>-74.012268</td>\n",
       "      <td>40.706718</td>\n",
       "      <td>N</td>\n",
       "      <td>429</td>\n",
       "      <td>1.485498</td>\n",
       "    </tr>\n",
       "    <tr>\n",
       "      <th>4</th>\n",
       "      <td>2</td>\n",
       "      <td>2016-03-26 13:30:55</td>\n",
       "      <td>2016-03-26 13:38:10</td>\n",
       "      <td>NaN</td>\n",
       "      <td>-73.973053</td>\n",
       "      <td>40.793209</td>\n",
       "      <td>-73.972923</td>\n",
       "      <td>40.782520</td>\n",
       "      <td>N</td>\n",
       "      <td>435</td>\n",
       "      <td>1.188588</td>\n",
       "    </tr>\n",
       "  </tbody>\n",
       "</table>\n",
       "</div>"
      ],
      "text/plain": [
       "   vendor_id     pickup_datetime    dropoff_datetime  passenger_count  \\\n",
       "0          2 2016-03-14 17:24:55 2016-03-14 17:32:30              NaN   \n",
       "1          1 2016-06-12 00:43:35 2016-06-12 00:54:38              NaN   \n",
       "2          2 2016-01-19 11:35:24 2016-01-19 12:10:48              NaN   \n",
       "3          2 2016-04-06 19:32:31 2016-04-06 19:39:40              NaN   \n",
       "4          2 2016-03-26 13:30:55 2016-03-26 13:38:10              NaN   \n",
       "\n",
       "   pickup_longitude  pickup_latitude  dropoff_longitude  dropoff_latitude  \\\n",
       "0        -73.982155        40.767937         -73.964630         40.765602   \n",
       "1        -73.980415        40.738564         -73.999481         40.731152   \n",
       "2        -73.979027        40.763939         -74.005333         40.710087   \n",
       "3        -74.010040        40.719971         -74.012268         40.706718   \n",
       "4        -73.973053        40.793209         -73.972923         40.782520   \n",
       "\n",
       "  store_and_fwd_flag  trip_duration  distance  \n",
       "0                  N            455  1.498521  \n",
       "1                  N            663  1.805507  \n",
       "2                  N           2124  6.385098  \n",
       "3                  N            429  1.485498  \n",
       "4                  N            435  1.188588  "
      ]
     },
     "execution_count": 68,
     "metadata": {},
     "output_type": "execute_result"
    }
   ],
   "source": [
    "df_new = concatenated_df\n",
    "df_new.head()"
   ]
  },
  {
   "cell_type": "code",
   "execution_count": 69,
   "id": "d54f2d1c",
   "metadata": {
    "execution": {
     "iopub.execute_input": "2024-03-17T08:51:26.101640Z",
     "iopub.status.busy": "2024-03-17T08:51:26.101199Z",
     "iopub.status.idle": "2024-03-17T08:51:26.137599Z",
     "shell.execute_reply": "2024-03-17T08:51:26.136043Z"
    },
    "papermill": {
     "duration": 0.092455,
     "end_time": "2024-03-17T08:51:26.140464",
     "exception": false,
     "start_time": "2024-03-17T08:51:26.048009",
     "status": "completed"
    },
    "tags": []
   },
   "outputs": [],
   "source": [
    "df_new.drop([\"pickup_longitude\",\"pickup_latitude\",\"dropoff_longitude\",\"dropoff_latitude\"],axis=1,inplace=True)"
   ]
  },
  {
   "cell_type": "code",
   "execution_count": 70,
   "id": "c3a9677b",
   "metadata": {
    "execution": {
     "iopub.execute_input": "2024-03-17T08:51:26.245277Z",
     "iopub.status.busy": "2024-03-17T08:51:26.244833Z",
     "iopub.status.idle": "2024-03-17T08:51:26.261676Z",
     "shell.execute_reply": "2024-03-17T08:51:26.260151Z"
    },
    "papermill": {
     "duration": 0.07296,
     "end_time": "2024-03-17T08:51:26.264511",
     "exception": false,
     "start_time": "2024-03-17T08:51:26.191551",
     "status": "completed"
    },
    "tags": []
   },
   "outputs": [
    {
     "data": {
      "text/html": [
       "<div>\n",
       "<style scoped>\n",
       "    .dataframe tbody tr th:only-of-type {\n",
       "        vertical-align: middle;\n",
       "    }\n",
       "\n",
       "    .dataframe tbody tr th {\n",
       "        vertical-align: top;\n",
       "    }\n",
       "\n",
       "    .dataframe thead th {\n",
       "        text-align: right;\n",
       "    }\n",
       "</style>\n",
       "<table border=\"1\" class=\"dataframe\">\n",
       "  <thead>\n",
       "    <tr style=\"text-align: right;\">\n",
       "      <th></th>\n",
       "      <th>vendor_id</th>\n",
       "      <th>pickup_datetime</th>\n",
       "      <th>dropoff_datetime</th>\n",
       "      <th>passenger_count</th>\n",
       "      <th>store_and_fwd_flag</th>\n",
       "      <th>trip_duration</th>\n",
       "      <th>distance</th>\n",
       "    </tr>\n",
       "  </thead>\n",
       "  <tbody>\n",
       "    <tr>\n",
       "      <th>0</th>\n",
       "      <td>2</td>\n",
       "      <td>2016-03-14 17:24:55</td>\n",
       "      <td>2016-03-14 17:32:30</td>\n",
       "      <td>NaN</td>\n",
       "      <td>N</td>\n",
       "      <td>455</td>\n",
       "      <td>1.498521</td>\n",
       "    </tr>\n",
       "    <tr>\n",
       "      <th>1</th>\n",
       "      <td>1</td>\n",
       "      <td>2016-06-12 00:43:35</td>\n",
       "      <td>2016-06-12 00:54:38</td>\n",
       "      <td>NaN</td>\n",
       "      <td>N</td>\n",
       "      <td>663</td>\n",
       "      <td>1.805507</td>\n",
       "    </tr>\n",
       "    <tr>\n",
       "      <th>2</th>\n",
       "      <td>2</td>\n",
       "      <td>2016-01-19 11:35:24</td>\n",
       "      <td>2016-01-19 12:10:48</td>\n",
       "      <td>NaN</td>\n",
       "      <td>N</td>\n",
       "      <td>2124</td>\n",
       "      <td>6.385098</td>\n",
       "    </tr>\n",
       "    <tr>\n",
       "      <th>3</th>\n",
       "      <td>2</td>\n",
       "      <td>2016-04-06 19:32:31</td>\n",
       "      <td>2016-04-06 19:39:40</td>\n",
       "      <td>NaN</td>\n",
       "      <td>N</td>\n",
       "      <td>429</td>\n",
       "      <td>1.485498</td>\n",
       "    </tr>\n",
       "    <tr>\n",
       "      <th>4</th>\n",
       "      <td>2</td>\n",
       "      <td>2016-03-26 13:30:55</td>\n",
       "      <td>2016-03-26 13:38:10</td>\n",
       "      <td>NaN</td>\n",
       "      <td>N</td>\n",
       "      <td>435</td>\n",
       "      <td>1.188588</td>\n",
       "    </tr>\n",
       "  </tbody>\n",
       "</table>\n",
       "</div>"
      ],
      "text/plain": [
       "   vendor_id     pickup_datetime    dropoff_datetime  passenger_count  \\\n",
       "0          2 2016-03-14 17:24:55 2016-03-14 17:32:30              NaN   \n",
       "1          1 2016-06-12 00:43:35 2016-06-12 00:54:38              NaN   \n",
       "2          2 2016-01-19 11:35:24 2016-01-19 12:10:48              NaN   \n",
       "3          2 2016-04-06 19:32:31 2016-04-06 19:39:40              NaN   \n",
       "4          2 2016-03-26 13:30:55 2016-03-26 13:38:10              NaN   \n",
       "\n",
       "  store_and_fwd_flag  trip_duration  distance  \n",
       "0                  N            455  1.498521  \n",
       "1                  N            663  1.805507  \n",
       "2                  N           2124  6.385098  \n",
       "3                  N            429  1.485498  \n",
       "4                  N            435  1.188588  "
      ]
     },
     "execution_count": 70,
     "metadata": {},
     "output_type": "execute_result"
    }
   ],
   "source": [
    "df_new.head()"
   ]
  },
  {
   "cell_type": "markdown",
   "id": "368bb878",
   "metadata": {
    "papermill": {
     "duration": 0.053518,
     "end_time": "2024-03-17T08:51:28.354360",
     "exception": false,
     "start_time": "2024-03-17T08:51:28.300842",
     "status": "completed"
    },
    "tags": []
   },
   "source": [
    "## Distance"
   ]
  },
  {
   "cell_type": "code",
   "execution_count": 65,
   "id": "02a25692",
   "metadata": {
    "execution": {
     "iopub.execute_input": "2024-03-17T08:51:28.466783Z",
     "iopub.status.busy": "2024-03-17T08:51:28.466271Z",
     "iopub.status.idle": "2024-03-17T08:51:28.854565Z",
     "shell.execute_reply": "2024-03-17T08:51:28.852996Z"
    },
    "papermill": {
     "duration": 0.448198,
     "end_time": "2024-03-17T08:51:28.857604",
     "exception": false,
     "start_time": "2024-03-17T08:51:28.409406",
     "status": "completed"
    },
    "tags": []
   },
   "outputs": [
    {
     "data": {
      "text/plain": [
       "<Axes: xlabel='distance'>"
      ]
     },
     "execution_count": 65,
     "metadata": {},
     "output_type": "execute_result"
    },
    {
     "data": {
      "image/png": "[encoded data removed]",
      "text/plain": [
       "<Figure size 640x480 with 1 Axes>"
      ]
     },
     "metadata": {},
     "output_type": "display_data"
    }
   ],
   "source": [
    "sns.boxplot(df_new,x=\"distance\")"
   ]
  },
  {
   "cell_type": "code",
   "execution_count": 71,
   "id": "6074fc63",
   "metadata": {
    "execution": {
     "iopub.execute_input": "2024-03-17T08:51:28.971976Z",
     "iopub.status.busy": "2024-03-17T08:51:28.971514Z",
     "iopub.status.idle": "2024-03-17T08:51:29.128461Z",
     "shell.execute_reply": "2024-03-17T08:51:29.127152Z"
    },
    "papermill": {
     "duration": 0.21858,
     "end_time": "2024-03-17T08:51:29.131340",
     "exception": false,
     "start_time": "2024-03-17T08:51:28.912760",
     "status": "completed"
    },
    "tags": []
   },
   "outputs": [
    {
     "data": {
      "text/plain": [
       "distance\n",
       "0.000000    5897\n",
       "0.000424     101\n",
       "0.000424      52\n",
       "0.000424      48\n",
       "0.000848      37\n",
       "            ... \n",
       "2.988816       1\n",
       "3.134765       1\n",
       "3.231340       1\n",
       "1.584859       1\n",
       "1.134042       1\n",
       "Name: count, Length: 1452288, dtype: int64"
      ]
     },
     "execution_count": 71,
     "metadata": {},
     "output_type": "execute_result"
    }
   ],
   "source": [
    "df_new[\"distance\"].value_counts()"
   ]
  },
  {
   "cell_type": "code",
   "execution_count": 72,
   "id": "9b415c1b",
   "metadata": {
    "execution": {
     "iopub.execute_input": "2024-03-17T08:51:29.246698Z",
     "iopub.status.busy": "2024-03-17T08:51:29.246255Z",
     "iopub.status.idle": "2024-03-17T08:51:29.393295Z",
     "shell.execute_reply": "2024-03-17T08:51:29.392213Z"
    },
    "papermill": {
     "duration": 0.208293,
     "end_time": "2024-03-17T08:51:29.395715",
     "exception": false,
     "start_time": "2024-03-17T08:51:29.187422",
     "status": "completed"
    },
    "tags": []
   },
   "outputs": [
    {
     "data": {
      "text/html": [
       "<div>\n",
       "<style scoped>\n",
       "    .dataframe tbody tr th:only-of-type {\n",
       "        vertical-align: middle;\n",
       "    }\n",
       "\n",
       "    .dataframe tbody tr th {\n",
       "        vertical-align: top;\n",
       "    }\n",
       "\n",
       "    .dataframe thead th {\n",
       "        text-align: right;\n",
       "    }\n",
       "</style>\n",
       "<table border=\"1\" class=\"dataframe\">\n",
       "  <thead>\n",
       "    <tr style=\"text-align: right;\">\n",
       "      <th></th>\n",
       "      <th>vendor_id</th>\n",
       "      <th>pickup_datetime</th>\n",
       "      <th>dropoff_datetime</th>\n",
       "      <th>passenger_count</th>\n",
       "      <th>trip_duration</th>\n",
       "      <th>distance</th>\n",
       "    </tr>\n",
       "  </thead>\n",
       "  <tbody>\n",
       "    <tr>\n",
       "      <th>count</th>\n",
       "      <td>1.458644e+06</td>\n",
       "      <td>1458644</td>\n",
       "      <td>1458644</td>\n",
       "      <td>425039.000000</td>\n",
       "      <td>1.458644e+06</td>\n",
       "      <td>1.458644e+06</td>\n",
       "    </tr>\n",
       "    <tr>\n",
       "      <th>mean</th>\n",
       "      <td>1.534950e+00</td>\n",
       "      <td>2016-04-01 10:10:24.940037120</td>\n",
       "      <td>2016-04-01 10:26:24.432310528</td>\n",
       "      <td>3.280588</td>\n",
       "      <td>9.594923e+02</td>\n",
       "      <td>3.440864e+00</td>\n",
       "    </tr>\n",
       "    <tr>\n",
       "      <th>min</th>\n",
       "      <td>1.000000e+00</td>\n",
       "      <td>2016-01-01 00:00:17</td>\n",
       "      <td>2016-01-01 00:03:31</td>\n",
       "      <td>2.000000</td>\n",
       "      <td>1.000000e+00</td>\n",
       "      <td>0.000000e+00</td>\n",
       "    </tr>\n",
       "    <tr>\n",
       "      <th>25%</th>\n",
       "      <td>1.000000e+00</td>\n",
       "      <td>2016-02-17 16:46:04.249999872</td>\n",
       "      <td>2016-02-17 17:05:32.500000</td>\n",
       "      <td>2.000000</td>\n",
       "      <td>3.970000e+02</td>\n",
       "      <td>1.231837e+00</td>\n",
       "    </tr>\n",
       "    <tr>\n",
       "      <th>50%</th>\n",
       "      <td>2.000000e+00</td>\n",
       "      <td>2016-04-01 17:19:40</td>\n",
       "      <td>2016-04-01 17:35:12</td>\n",
       "      <td>3.000000</td>\n",
       "      <td>6.620000e+02</td>\n",
       "      <td>2.093717e+00</td>\n",
       "    </tr>\n",
       "    <tr>\n",
       "      <th>75%</th>\n",
       "      <td>2.000000e+00</td>\n",
       "      <td>2016-05-15 03:56:08.750000128</td>\n",
       "      <td>2016-05-15 04:10:51.750000128</td>\n",
       "      <td>5.000000</td>\n",
       "      <td>1.075000e+03</td>\n",
       "      <td>3.875337e+00</td>\n",
       "    </tr>\n",
       "    <tr>\n",
       "      <th>max</th>\n",
       "      <td>2.000000e+00</td>\n",
       "      <td>2016-06-30 23:59:39</td>\n",
       "      <td>2016-07-01 23:02:03</td>\n",
       "      <td>6.000000</td>\n",
       "      <td>3.526282e+06</td>\n",
       "      <td>1.240909e+03</td>\n",
       "    </tr>\n",
       "    <tr>\n",
       "      <th>std</th>\n",
       "      <td>4.987772e-01</td>\n",
       "      <td>NaN</td>\n",
       "      <td>NaN</td>\n",
       "      <td>1.497074</td>\n",
       "      <td>5.237432e+03</td>\n",
       "      <td>4.296538e+00</td>\n",
       "    </tr>\n",
       "  </tbody>\n",
       "</table>\n",
       "</div>"
      ],
      "text/plain": [
       "          vendor_id                pickup_datetime  \\\n",
       "count  1.458644e+06                        1458644   \n",
       "mean   1.534950e+00  2016-04-01 10:10:24.940037120   \n",
       "min    1.000000e+00            2016-01-01 00:00:17   \n",
       "25%    1.000000e+00  2016-02-17 16:46:04.249999872   \n",
       "50%    2.000000e+00            2016-04-01 17:19:40   \n",
       "75%    2.000000e+00  2016-05-15 03:56:08.750000128   \n",
       "max    2.000000e+00            2016-06-30 23:59:39   \n",
       "std    4.987772e-01                            NaN   \n",
       "\n",
       "                    dropoff_datetime  passenger_count  trip_duration  \\\n",
       "count                        1458644    425039.000000   1.458644e+06   \n",
       "mean   2016-04-01 10:26:24.432310528         3.280588   9.594923e+02   \n",
       "min              2016-01-01 00:03:31         2.000000   1.000000e+00   \n",
       "25%       2016-02-17 17:05:32.500000         2.000000   3.970000e+02   \n",
       "50%              2016-04-01 17:35:12         3.000000   6.620000e+02   \n",
       "75%    2016-05-15 04:10:51.750000128         5.000000   1.075000e+03   \n",
       "max              2016-07-01 23:02:03         6.000000   3.526282e+06   \n",
       "std                              NaN         1.497074   5.237432e+03   \n",
       "\n",
       "           distance  \n",
       "count  1.458644e+06  \n",
       "mean   3.440864e+00  \n",
       "min    0.000000e+00  \n",
       "25%    1.231837e+00  \n",
       "50%    2.093717e+00  \n",
       "75%    3.875337e+00  \n",
       "max    1.240909e+03  \n",
       "std    4.296538e+00  "
      ]
     },
     "execution_count": 72,
     "metadata": {},
     "output_type": "execute_result"
    }
   ],
   "source": [
    "df_new.describe()"
   ]
  },
  {
   "cell_type": "code",
   "execution_count": 68,
   "id": "8023a42f",
   "metadata": {
    "execution": {
     "iopub.execute_input": "2024-03-17T08:51:29.516153Z",
     "iopub.status.busy": "2024-03-17T08:51:29.515701Z",
     "iopub.status.idle": "2024-03-17T08:51:29.553312Z",
     "shell.execute_reply": "2024-03-17T08:51:29.551559Z"
    },
    "papermill": {
     "duration": 0.102339,
     "end_time": "2024-03-17T08:51:29.556250",
     "exception": false,
     "start_time": "2024-03-17T08:51:29.453911",
     "status": "completed"
    },
    "tags": []
   },
   "outputs": [],
   "source": [
    "iqr = df_new[\"distance\"].quantile(0.75) - df_new[\"distance\"].quantile(0.25)\n",
    "\n",
    "upper_limit = df_new[\"distance\"].quantile(0.75) + 1.5 * iqr\n",
    "lower_limit = df_new[\"distance\"].quantile(0.25) - 1.5 * iqr"
   ]
  },
  {
   "cell_type": "code",
   "execution_count": 69,
   "id": "dc6b05ac",
   "metadata": {
    "execution": {
     "iopub.execute_input": "2024-03-17T08:51:29.667702Z",
     "iopub.status.busy": "2024-03-17T08:51:29.667205Z",
     "iopub.status.idle": "2024-03-17T08:51:29.675987Z",
     "shell.execute_reply": "2024-03-17T08:51:29.674706Z"
    },
    "papermill": {
     "duration": 0.067617,
     "end_time": "2024-03-17T08:51:29.678690",
     "exception": false,
     "start_time": "2024-03-17T08:51:29.611073",
     "status": "completed"
    },
    "tags": []
   },
   "outputs": [
    {
     "data": {
      "text/plain": [
       "(8.161065147538924, -2.8806428431325295)"
      ]
     },
     "execution_count": 69,
     "metadata": {},
     "output_type": "execute_result"
    }
   ],
   "source": [
    "upper_limit,lower_limit"
   ]
  },
  {
   "cell_type": "code",
   "execution_count": 70,
   "id": "9acfca6e",
   "metadata": {
    "execution": {
     "iopub.execute_input": "2024-03-17T08:51:29.794347Z",
     "iopub.status.busy": "2024-03-17T08:51:29.793874Z",
     "iopub.status.idle": "2024-03-17T08:51:29.800199Z",
     "shell.execute_reply": "2024-03-17T08:51:29.798552Z"
    },
    "papermill": {
     "duration": 0.067163,
     "end_time": "2024-03-17T08:51:29.802654",
     "exception": false,
     "start_time": "2024-03-17T08:51:29.735491",
     "status": "completed"
    },
    "tags": []
   },
   "outputs": [],
   "source": [
    "lower_limit = 0"
   ]
  },
  {
   "cell_type": "code",
   "execution_count": 71,
   "id": "c8b51e6c",
   "metadata": {
    "execution": {
     "iopub.execute_input": "2024-03-17T08:51:29.919387Z",
     "iopub.status.busy": "2024-03-17T08:51:29.917890Z",
     "iopub.status.idle": "2024-03-17T08:51:29.928742Z",
     "shell.execute_reply": "2024-03-17T08:51:29.927550Z"
    },
    "papermill": {
     "duration": 0.073153,
     "end_time": "2024-03-17T08:51:29.931742",
     "exception": false,
     "start_time": "2024-03-17T08:51:29.858589",
     "status": "completed"
    },
    "tags": []
   },
   "outputs": [],
   "source": [
    "df_new[\"distance\"] = np.where(df_new[\"distance\"]<upper_limit,df_new[\"distance\"],upper_limit)"
   ]
  },
  {
   "cell_type": "code",
   "execution_count": 72,
   "id": "d9e97c96",
   "metadata": {
    "execution": {
     "iopub.execute_input": "2024-03-17T08:51:30.051726Z",
     "iopub.status.busy": "2024-03-17T08:51:30.051257Z",
     "iopub.status.idle": "2024-03-17T08:51:30.205401Z",
     "shell.execute_reply": "2024-03-17T08:51:30.203420Z"
    },
    "papermill": {
     "duration": 0.219783,
     "end_time": "2024-03-17T08:51:30.208475",
     "exception": false,
     "start_time": "2024-03-17T08:51:29.988692",
     "status": "completed"
    },
    "tags": []
   },
   "outputs": [
    {
     "data": {
      "text/html": [
       "<div>\n",
       "<style scoped>\n",
       "    .dataframe tbody tr th:only-of-type {\n",
       "        vertical-align: middle;\n",
       "    }\n",
       "\n",
       "    .dataframe tbody tr th {\n",
       "        vertical-align: top;\n",
       "    }\n",
       "\n",
       "    .dataframe thead th {\n",
       "        text-align: right;\n",
       "    }\n",
       "</style>\n",
       "<table border=\"1\" class=\"dataframe\">\n",
       "  <thead>\n",
       "    <tr style=\"text-align: right;\">\n",
       "      <th></th>\n",
       "      <th>vendor_id</th>\n",
       "      <th>pickup_datetime</th>\n",
       "      <th>dropoff_datetime</th>\n",
       "      <th>passenger_count</th>\n",
       "      <th>trip_duration</th>\n",
       "      <th>distance</th>\n",
       "    </tr>\n",
       "  </thead>\n",
       "  <tbody>\n",
       "    <tr>\n",
       "      <th>count</th>\n",
       "      <td>425039.000000</td>\n",
       "      <td>425039</td>\n",
       "      <td>425039</td>\n",
       "      <td>425039.000000</td>\n",
       "      <td>4.250390e+05</td>\n",
       "      <td>425039.000000</td>\n",
       "    </tr>\n",
       "    <tr>\n",
       "      <th>mean</th>\n",
       "      <td>1.699971</td>\n",
       "      <td>2016-04-01 15:17:14.185813504</td>\n",
       "      <td>2016-04-01 15:34:24.322946816</td>\n",
       "      <td>2.505180</td>\n",
       "      <td>1.030137e+03</td>\n",
       "      <td>3.002227</td>\n",
       "    </tr>\n",
       "    <tr>\n",
       "      <th>min</th>\n",
       "      <td>1.000000</td>\n",
       "      <td>2016-01-01 00:00:17</td>\n",
       "      <td>2016-01-01 00:07:49</td>\n",
       "      <td>2.000000</td>\n",
       "      <td>1.000000e+00</td>\n",
       "      <td>0.000000</td>\n",
       "    </tr>\n",
       "    <tr>\n",
       "      <th>25%</th>\n",
       "      <td>1.000000</td>\n",
       "      <td>2016-02-17 21:32:40.500000</td>\n",
       "      <td>2016-02-17 21:44:45.500000</td>\n",
       "      <td>2.000000</td>\n",
       "      <td>4.120000e+02</td>\n",
       "      <td>1.259998</td>\n",
       "    </tr>\n",
       "    <tr>\n",
       "      <th>50%</th>\n",
       "      <td>2.000000</td>\n",
       "      <td>2016-04-02 01:08:45</td>\n",
       "      <td>2016-04-02 01:23:43</td>\n",
       "      <td>3.000000</td>\n",
       "      <td>6.830000e+02</td>\n",
       "      <td>2.143761</td>\n",
       "    </tr>\n",
       "    <tr>\n",
       "      <th>75%</th>\n",
       "      <td>2.000000</td>\n",
       "      <td>2016-05-15 12:15:40.500000</td>\n",
       "      <td>2016-05-15 12:32:23</td>\n",
       "      <td>3.000000</td>\n",
       "      <td>1.109000e+03</td>\n",
       "      <td>4.020425</td>\n",
       "    </tr>\n",
       "    <tr>\n",
       "      <th>max</th>\n",
       "      <td>2.000000</td>\n",
       "      <td>2016-06-30 23:59:37</td>\n",
       "      <td>2016-07-01 23:02:03</td>\n",
       "      <td>3.000000</td>\n",
       "      <td>2.049578e+06</td>\n",
       "      <td>8.161065</td>\n",
       "    </tr>\n",
       "    <tr>\n",
       "      <th>std</th>\n",
       "      <td>0.458271</td>\n",
       "      <td>NaN</td>\n",
       "      <td>NaN</td>\n",
       "      <td>0.499974</td>\n",
       "      <td>4.853264e+03</td>\n",
       "      <td>2.348940</td>\n",
       "    </tr>\n",
       "  </tbody>\n",
       "</table>\n",
       "</div>"
      ],
      "text/plain": [
       "           vendor_id                pickup_datetime  \\\n",
       "count  425039.000000                         425039   \n",
       "mean        1.699971  2016-04-01 15:17:14.185813504   \n",
       "min         1.000000            2016-01-01 00:00:17   \n",
       "25%         1.000000     2016-02-17 21:32:40.500000   \n",
       "50%         2.000000            2016-04-02 01:08:45   \n",
       "75%         2.000000     2016-05-15 12:15:40.500000   \n",
       "max         2.000000            2016-06-30 23:59:37   \n",
       "std         0.458271                            NaN   \n",
       "\n",
       "                    dropoff_datetime  passenger_count  trip_duration  \\\n",
       "count                         425039    425039.000000   4.250390e+05   \n",
       "mean   2016-04-01 15:34:24.322946816         2.505180   1.030137e+03   \n",
       "min              2016-01-01 00:07:49         2.000000   1.000000e+00   \n",
       "25%       2016-02-17 21:44:45.500000         2.000000   4.120000e+02   \n",
       "50%              2016-04-02 01:23:43         3.000000   6.830000e+02   \n",
       "75%              2016-05-15 12:32:23         3.000000   1.109000e+03   \n",
       "max              2016-07-01 23:02:03         3.000000   2.049578e+06   \n",
       "std                              NaN         0.499974   4.853264e+03   \n",
       "\n",
       "            distance  \n",
       "count  425039.000000  \n",
       "mean        3.002227  \n",
       "min         0.000000  \n",
       "25%         1.259998  \n",
       "50%         2.143761  \n",
       "75%         4.020425  \n",
       "max         8.161065  \n",
       "std         2.348940  "
      ]
     },
     "execution_count": 72,
     "metadata": {},
     "output_type": "execute_result"
    }
   ],
   "source": [
    "df_new.describe()"
   ]
  },
  {
   "cell_type": "code",
   "execution_count": 73,
   "id": "053d3515",
   "metadata": {
    "execution": {
     "iopub.execute_input": "2024-03-17T08:51:30.323052Z",
     "iopub.status.busy": "2024-03-17T08:51:30.321542Z",
     "iopub.status.idle": "2024-03-17T08:51:30.572044Z",
     "shell.execute_reply": "2024-03-17T08:51:30.570799Z"
    },
    "papermill": {
     "duration": 0.309492,
     "end_time": "2024-03-17T08:51:30.574646",
     "exception": false,
     "start_time": "2024-03-17T08:51:30.265154",
     "status": "completed"
    },
    "tags": []
   },
   "outputs": [
    {
     "data": {
      "text/plain": [
       "<Axes: xlabel='distance'>"
      ]
     },
     "execution_count": 73,
     "metadata": {},
     "output_type": "execute_result"
    },
    {
     "data": {
      "image/png": "[encoded data removed]",
      "text/plain": [
       "<Figure size 640x480 with 1 Axes>"
      ]
     },
     "metadata": {},
     "output_type": "display_data"
    }
   ],
   "source": [
    "sns.boxplot(df_new,x=\"distance\")"
   ]
  },
  {
   "cell_type": "code",
   "execution_count": 75,
   "id": "880c0383",
   "metadata": {
    "execution": {
     "iopub.execute_input": "2024-03-17T08:51:30.940588Z",
     "iopub.status.busy": "2024-03-17T08:51:30.939243Z",
     "iopub.status.idle": "2024-03-17T08:51:30.959534Z",
     "shell.execute_reply": "2024-03-17T08:51:30.958237Z"
    },
    "papermill": {
     "duration": 0.080866,
     "end_time": "2024-03-17T08:51:30.962466",
     "exception": false,
     "start_time": "2024-03-17T08:51:30.881600",
     "status": "completed"
    },
    "tags": []
   },
   "outputs": [],
   "source": [
    "df_new.drop(\"dropoff_datetime\",axis=1,inplace=True)"
   ]
  },
  {
   "cell_type": "code",
   "execution_count": 79,
   "id": "265af3b2",
   "metadata": {
    "execution": {
     "iopub.execute_input": "2024-03-17T08:51:37.789540Z",
     "iopub.status.busy": "2024-03-17T08:51:37.788242Z",
     "iopub.status.idle": "2024-03-17T08:51:37.818410Z",
     "shell.execute_reply": "2024-03-17T08:51:37.817522Z"
    },
    "papermill": {
     "duration": 0.099411,
     "end_time": "2024-03-17T08:51:37.821336",
     "exception": false,
     "start_time": "2024-03-17T08:51:37.721925",
     "status": "completed"
    },
    "tags": []
   },
   "outputs": [],
   "source": [
    "df_new.drop(\"store_and_fwd_flag\",axis=1,inplace=True)"
   ]
  },
  {
   "cell_type": "code",
   "execution_count": 80,
   "id": "48664c66",
   "metadata": {
    "execution": {
     "iopub.execute_input": "2024-03-17T08:51:37.951750Z",
     "iopub.status.busy": "2024-03-17T08:51:37.950376Z",
     "iopub.status.idle": "2024-03-17T08:51:37.967630Z",
     "shell.execute_reply": "2024-03-17T08:51:37.966764Z"
    },
    "papermill": {
     "duration": 0.086966,
     "end_time": "2024-03-17T08:51:37.972187",
     "exception": false,
     "start_time": "2024-03-17T08:51:37.885221",
     "status": "completed"
    },
    "tags": []
   },
   "outputs": [
    {
     "data": {
      "text/html": [
       "<div>\n",
       "<style scoped>\n",
       "    .dataframe tbody tr th:only-of-type {\n",
       "        vertical-align: middle;\n",
       "    }\n",
       "\n",
       "    .dataframe tbody tr th {\n",
       "        vertical-align: top;\n",
       "    }\n",
       "\n",
       "    .dataframe thead th {\n",
       "        text-align: right;\n",
       "    }\n",
       "</style>\n",
       "<table border=\"1\" class=\"dataframe\">\n",
       "  <thead>\n",
       "    <tr style=\"text-align: right;\">\n",
       "      <th></th>\n",
       "      <th>vendor_id</th>\n",
       "      <th>pickup_datetime</th>\n",
       "      <th>passenger_count</th>\n",
       "      <th>trip_duration</th>\n",
       "      <th>distance</th>\n",
       "    </tr>\n",
       "  </thead>\n",
       "  <tbody>\n",
       "    <tr>\n",
       "      <th>0</th>\n",
       "      <td>2</td>\n",
       "      <td>2016-03-14 17:24:55</td>\n",
       "      <td>NaN</td>\n",
       "      <td>455</td>\n",
       "      <td>1.498521</td>\n",
       "    </tr>\n",
       "    <tr>\n",
       "      <th>1</th>\n",
       "      <td>1</td>\n",
       "      <td>2016-06-12 00:43:35</td>\n",
       "      <td>NaN</td>\n",
       "      <td>663</td>\n",
       "      <td>1.805507</td>\n",
       "    </tr>\n",
       "    <tr>\n",
       "      <th>2</th>\n",
       "      <td>2</td>\n",
       "      <td>2016-01-19 11:35:24</td>\n",
       "      <td>NaN</td>\n",
       "      <td>2124</td>\n",
       "      <td>6.385098</td>\n",
       "    </tr>\n",
       "    <tr>\n",
       "      <th>3</th>\n",
       "      <td>2</td>\n",
       "      <td>2016-04-06 19:32:31</td>\n",
       "      <td>NaN</td>\n",
       "      <td>429</td>\n",
       "      <td>1.485498</td>\n",
       "    </tr>\n",
       "    <tr>\n",
       "      <th>4</th>\n",
       "      <td>2</td>\n",
       "      <td>2016-03-26 13:30:55</td>\n",
       "      <td>NaN</td>\n",
       "      <td>435</td>\n",
       "      <td>1.188588</td>\n",
       "    </tr>\n",
       "  </tbody>\n",
       "</table>\n",
       "</div>"
      ],
      "text/plain": [
       "   vendor_id     pickup_datetime  passenger_count  trip_duration  distance\n",
       "0          2 2016-03-14 17:24:55              NaN            455  1.498521\n",
       "1          1 2016-06-12 00:43:35              NaN            663  1.805507\n",
       "2          2 2016-01-19 11:35:24              NaN           2124  6.385098\n",
       "3          2 2016-04-06 19:32:31              NaN            429  1.485498\n",
       "4          2 2016-03-26 13:30:55              NaN            435  1.188588"
      ]
     },
     "execution_count": 80,
     "metadata": {},
     "output_type": "execute_result"
    }
   ],
   "source": [
    "df_new.head()"
   ]
  },
  {
   "cell_type": "code",
   "execution_count": 82,
   "id": "62fa674a",
   "metadata": {
    "execution": {
     "iopub.execute_input": "2024-03-17T08:51:40.530149Z",
     "iopub.status.busy": "2024-03-17T08:51:40.529394Z",
     "iopub.status.idle": "2024-03-17T08:51:56.869612Z",
     "shell.execute_reply": "2024-03-17T08:51:56.867995Z"
    },
    "papermill": {
     "duration": 16.412828,
     "end_time": "2024-03-17T08:51:56.873111",
     "exception": false,
     "start_time": "2024-03-17T08:51:40.460283",
     "status": "completed"
    },
    "tags": []
   },
   "outputs": [],
   "source": [
    "speed = []\n",
    "for i in range(df.shape[0]):\n",
    "    if df_new['trip_duration'][i] != 0:\n",
    "        speed_value = df_new[\"distance\"][i] / (df_new['trip_duration'][i]/ 3600)\n",
    "    else:\n",
    "        speed_value = np.nan  # Assign NaN when denominator is zero\n",
    "    \n",
    "    speed.append(speed_value)"
   ]
  },
  {
   "cell_type": "code",
   "execution_count": 83,
   "id": "3a7f7d5b",
   "metadata": {
    "execution": {
     "iopub.execute_input": "2024-03-17T08:51:57.011212Z",
     "iopub.status.busy": "2024-03-17T08:51:57.010332Z",
     "iopub.status.idle": "2024-03-17T08:51:57.141833Z",
     "shell.execute_reply": "2024-03-17T08:51:57.140803Z"
    },
    "papermill": {
     "duration": 0.203808,
     "end_time": "2024-03-17T08:51:57.144774",
     "exception": false,
     "start_time": "2024-03-17T08:51:56.940966",
     "status": "completed"
    },
    "tags": []
   },
   "outputs": [],
   "source": [
    "df_new[\"speed\"] = speed "
   ]
  },
  {
   "cell_type": "code",
   "execution_count": 84,
   "id": "a4bfecb1",
   "metadata": {
    "execution": {
     "iopub.execute_input": "2024-03-17T08:51:57.281022Z",
     "iopub.status.busy": "2024-03-17T08:51:57.280226Z",
     "iopub.status.idle": "2024-03-17T08:51:57.301585Z",
     "shell.execute_reply": "2024-03-17T08:51:57.300192Z"
    },
    "papermill": {
     "duration": 0.092532,
     "end_time": "2024-03-17T08:51:57.304857",
     "exception": false,
     "start_time": "2024-03-17T08:51:57.212325",
     "status": "completed"
    },
    "tags": []
   },
   "outputs": [
    {
     "data": {
      "text/html": [
       "<div>\n",
       "<style scoped>\n",
       "    .dataframe tbody tr th:only-of-type {\n",
       "        vertical-align: middle;\n",
       "    }\n",
       "\n",
       "    .dataframe tbody tr th {\n",
       "        vertical-align: top;\n",
       "    }\n",
       "\n",
       "    .dataframe thead th {\n",
       "        text-align: right;\n",
       "    }\n",
       "</style>\n",
       "<table border=\"1\" class=\"dataframe\">\n",
       "  <thead>\n",
       "    <tr style=\"text-align: right;\">\n",
       "      <th></th>\n",
       "      <th>vendor_id</th>\n",
       "      <th>pickup_datetime</th>\n",
       "      <th>passenger_count</th>\n",
       "      <th>trip_duration</th>\n",
       "      <th>distance</th>\n",
       "      <th>speed</th>\n",
       "    </tr>\n",
       "  </thead>\n",
       "  <tbody>\n",
       "    <tr>\n",
       "      <th>0</th>\n",
       "      <td>2</td>\n",
       "      <td>2016-03-14 17:24:55</td>\n",
       "      <td>NaN</td>\n",
       "      <td>455</td>\n",
       "      <td>1.498521</td>\n",
       "      <td>11.856428</td>\n",
       "    </tr>\n",
       "    <tr>\n",
       "      <th>1</th>\n",
       "      <td>1</td>\n",
       "      <td>2016-06-12 00:43:35</td>\n",
       "      <td>NaN</td>\n",
       "      <td>663</td>\n",
       "      <td>1.805507</td>\n",
       "      <td>9.803659</td>\n",
       "    </tr>\n",
       "    <tr>\n",
       "      <th>2</th>\n",
       "      <td>2</td>\n",
       "      <td>2016-01-19 11:35:24</td>\n",
       "      <td>NaN</td>\n",
       "      <td>2124</td>\n",
       "      <td>6.385098</td>\n",
       "      <td>10.822201</td>\n",
       "    </tr>\n",
       "    <tr>\n",
       "      <th>3</th>\n",
       "      <td>2</td>\n",
       "      <td>2016-04-06 19:32:31</td>\n",
       "      <td>NaN</td>\n",
       "      <td>429</td>\n",
       "      <td>1.485498</td>\n",
       "      <td>12.465721</td>\n",
       "    </tr>\n",
       "    <tr>\n",
       "      <th>4</th>\n",
       "      <td>2</td>\n",
       "      <td>2016-03-26 13:30:55</td>\n",
       "      <td>NaN</td>\n",
       "      <td>435</td>\n",
       "      <td>1.188588</td>\n",
       "      <td>9.836594</td>\n",
       "    </tr>\n",
       "  </tbody>\n",
       "</table>\n",
       "</div>"
      ],
      "text/plain": [
       "   vendor_id     pickup_datetime  passenger_count  trip_duration  distance  \\\n",
       "0          2 2016-03-14 17:24:55              NaN            455  1.498521   \n",
       "1          1 2016-06-12 00:43:35              NaN            663  1.805507   \n",
       "2          2 2016-01-19 11:35:24              NaN           2124  6.385098   \n",
       "3          2 2016-04-06 19:32:31              NaN            429  1.485498   \n",
       "4          2 2016-03-26 13:30:55              NaN            435  1.188588   \n",
       "\n",
       "       speed  \n",
       "0  11.856428  \n",
       "1   9.803659  \n",
       "2  10.822201  \n",
       "3  12.465721  \n",
       "4   9.836594  "
      ]
     },
     "execution_count": 84,
     "metadata": {},
     "output_type": "execute_result"
    }
   ],
   "source": [
    "df_new.head()"
   ]
  },
  {
   "cell_type": "code",
   "execution_count": 85,
   "id": "f13194f7",
   "metadata": {
    "execution": {
     "iopub.execute_input": "2024-03-17T08:51:57.444811Z",
     "iopub.status.busy": "2024-03-17T08:51:57.443853Z",
     "iopub.status.idle": "2024-03-17T08:51:57.457373Z",
     "shell.execute_reply": "2024-03-17T08:51:57.456425Z"
    },
    "papermill": {
     "duration": 0.085442,
     "end_time": "2024-03-17T08:51:57.459860",
     "exception": false,
     "start_time": "2024-03-17T08:51:57.374418",
     "status": "completed"
    },
    "tags": []
   },
   "outputs": [
    {
     "data": {
      "text/plain": [
       "vendor_id                0\n",
       "pickup_datetime          0\n",
       "passenger_count    1033605\n",
       "trip_duration            0\n",
       "distance                 0\n",
       "speed                    0\n",
       "dtype: int64"
      ]
     },
     "execution_count": 85,
     "metadata": {},
     "output_type": "execute_result"
    }
   ],
   "source": [
    "df_new.isnull().sum()"
   ]
  },
  {
   "cell_type": "code",
   "execution_count": 86,
   "id": "b51301e2",
   "metadata": {},
   "outputs": [],
   "source": [
    "asd = df_new.drop(['vendor_id','passenger_count','pickup_datetime'], axis=1)\n",
    "asd.to_csv('NYC_SPEED.csv', index=False)"
   ]
  },
  {
   "cell_type": "code",
   "execution_count": 87,
   "id": "ee8a2c6f",
   "metadata": {},
   "outputs": [],
   "source": [
    "total_rows = len(asd)\n",
    "part_size = total_rows // 3\n",
    "\n",
    "part1 = asd.iloc[:part_size]\n",
    "part2 = asd.iloc[part_size:part_size*2]\n",
    "part3 = asd.iloc[part_size*2:]\n",
    "\n",
    "part1.to_csv('NYC_SPEED_1.csv', index=False)\n",
    "part2.to_csv('NYC_SPEED_2.csv', index=False)\n",
    "part3.to_csv('NYC_SPEED_3.csv', index=False)"
   ]
  },
  {
   "cell_type": "code",
   "execution_count": 96,
   "id": "dac90f74",
   "metadata": {},
   "outputs": [
    {
     "data": {
      "text/plain": [
       "<Axes: >"
      ]
     },
     "execution_count": 96,
     "metadata": {},
     "output_type": "execute_result"
    },
    {
     "data": {
      "image/png": "[encoded data removed]",
      "text/plain": [
       "<Figure size 800x800 with 2 Axes>"
      ]
     },
     "metadata": {},
     "output_type": "display_data"
    }
   ],
   "source": [
    "import matplotlib.pyplot as plt\n",
    "import seaborn as sns\n",
    "\n",
    "plt.figure(figsize=(8, 8))\n",
    "sns.heatmap(asd.select_dtypes(['int64', 'float']).corr(method='spearman'), annot=True)"
   ]
  }
 ],
 "metadata": {
  "kaggle": {
   "accelerator": "none",
   "dataSources": [
    {
     "datasetId": 1818367,
     "sourceId": 2965819,
     "sourceType": "datasetVersion"
    }
   ],
   "dockerImageVersionId": 30664,
   "isGpuEnabled": false,
   "isInternetEnabled": true,
   "language": "python",
   "sourceType": "notebook"
  },
  "kernelspec": {
   "display_name": "Python 3",
   "language": "python",
   "name": "python3"
  },
  "language_info": {
   "codemirror_mode": {
    "name": "ipython",
    "version": 3
   },
   "file_extension": ".py",
   "mimetype": "text/x-python",
   "name": "python",
   "nbconvert_exporter": "python",
   "pygments_lexer": "ipython3",
   "version": "3.11.4"
  },
  "papermill": {
   "default_parameters": {},
   "duration": 660.939041,
   "end_time": "2024-03-17T08:57:10.713576",
   "environment_variables": {},
   "exception": null,
   "input_path": "__notebook__.ipynb",
   "output_path": "__notebook__.ipynb",
   "parameters": {},
   "start_time": "2024-03-17T08:46:09.774535",
   "version": "2.5.0"
  }
 },
 "nbformat": 4,
 "nbformat_minor": 5
}
